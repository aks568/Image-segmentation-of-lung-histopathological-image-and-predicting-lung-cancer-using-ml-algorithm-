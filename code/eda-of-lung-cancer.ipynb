{
 "cells": [
  {
   "cell_type": "code",
   "execution_count": 1,
   "metadata": {
    "execution": {
     "iopub.execute_input": "2023-02-21T21:23:41.163233Z",
     "iopub.status.busy": "2023-02-21T21:23:41.162505Z",
     "iopub.status.idle": "2023-02-21T21:23:43.736201Z",
     "shell.execute_reply": "2023-02-21T21:23:43.735137Z",
     "shell.execute_reply.started": "2023-02-21T21:23:41.163143Z"
    }
   },
   "outputs": [],
   "source": [
    "from keras.layers import Conv2D, ZeroPadding2D, Activation, Input, Dropout, Add\n",
    "from keras.models import Model\n",
    "from tensorflow.keras.optimizers import Adam\n",
    "from tensorflow.keras.layers import BatchNormalization\n",
    "from keras.layers.pooling import MaxPooling2D\n",
    "from keras.layers.core import Flatten, Dense\n",
    "from keras.utils import np_utils\n",
    "\n",
    "from tensorflow.keras.layers import Layer, InputSpec\n",
    "from keras import backend as K\n",
    "\n",
    "import numpy as np\n"
   ]
  },
  {
   "cell_type": "code",
   "execution_count": 2,
   "metadata": {
    "execution": {
     "iopub.execute_input": "2023-02-21T21:23:43.739377Z",
     "iopub.status.busy": "2023-02-21T21:23:43.738694Z",
     "iopub.status.idle": "2023-02-21T21:23:58.398195Z",
     "shell.execute_reply": "2023-02-21T21:23:58.397050Z",
     "shell.execute_reply.started": "2023-02-21T21:23:43.739343Z"
    }
   },
   "outputs": [
    {
     "name": "stdout",
     "output_type": "stream",
     "text": [
      "lung_image_sets\\lung_aca\n",
      "lung_image_sets\\lung_n\n",
      "lung_image_sets\\lung_scc\n"
     ]
    }
   ],
   "source": [
    "import os\n",
    "f=[] \n",
    "def listdirs(rootdir):\n",
    "    for file in os.listdir(rootdir):\n",
    "        d = os.path.join(rootdir, file)\n",
    "        if os.path.isdir(d):\n",
    "            print(d)\n",
    "            f.append(d)\n",
    "            listdirs(d)\n",
    "rootdir = 'lung_image_sets'\n",
    "listdirs(rootdir)"
   ]
  },
  {
   "cell_type": "code",
   "execution_count": 3,
   "metadata": {
    "execution": {
     "iopub.execute_input": "2023-02-21T21:23:58.402508Z",
     "iopub.status.busy": "2023-02-21T21:23:58.401970Z",
     "iopub.status.idle": "2023-02-21T21:23:58.617796Z",
     "shell.execute_reply": "2023-02-21T21:23:58.616728Z",
     "shell.execute_reply.started": "2023-02-21T21:23:58.402473Z"
    }
   },
   "outputs": [
    {
     "name": "stdout",
     "output_type": "stream",
     "text": [
      "                 Root    Type          Images\n",
      "0     lung_image_sets  lung_n     lungn1.jpeg\n",
      "1     lung_image_sets  lung_n    lungn10.jpeg\n",
      "2     lung_image_sets  lung_n   lungn100.jpeg\n",
      "3     lung_image_sets  lung_n  lungn1000.jpeg\n",
      "4     lung_image_sets  lung_n  lungn1001.jpeg\n",
      "...               ...     ...             ...\n",
      "4995  lung_image_sets  lung_n   lungn995.jpeg\n",
      "4996  lung_image_sets  lung_n   lungn996.jpeg\n",
      "4997  lung_image_sets  lung_n   lungn997.jpeg\n",
      "4998  lung_image_sets  lung_n   lungn998.jpeg\n",
      "4999  lung_image_sets  lung_n   lungn999.jpeg\n",
      "\n",
      "[5000 rows x 3 columns]\n",
      "                 Root      Type            Images\n",
      "0     lung_image_sets  lung_scc     lungscc1.jpeg\n",
      "1     lung_image_sets  lung_scc    lungscc10.jpeg\n",
      "2     lung_image_sets  lung_scc   lungscc100.jpeg\n",
      "3     lung_image_sets  lung_scc  lungscc1000.jpeg\n",
      "4     lung_image_sets  lung_scc  lungscc1001.jpeg\n",
      "...               ...       ...               ...\n",
      "4995  lung_image_sets  lung_scc   lungscc995.jpeg\n",
      "4996  lung_image_sets  lung_scc   lungscc996.jpeg\n",
      "4997  lung_image_sets  lung_scc   lungscc997.jpeg\n",
      "4998  lung_image_sets  lung_scc   lungscc998.jpeg\n",
      "4999  lung_image_sets  lung_scc   lungscc999.jpeg\n",
      "\n",
      "[5000 rows x 3 columns]\n",
      "                 Root      Type            Images\n",
      "0     lung_image_sets  lung_aca     lungaca1.jpeg\n",
      "1     lung_image_sets  lung_aca    lungaca10.jpeg\n",
      "2     lung_image_sets  lung_aca   lungaca100.jpeg\n",
      "3     lung_image_sets  lung_aca  lungaca1000.jpeg\n",
      "4     lung_image_sets  lung_aca  lungaca1001.jpeg\n",
      "...               ...       ...               ...\n",
      "4995  lung_image_sets  lung_aca   lungaca995.jpeg\n",
      "4996  lung_image_sets  lung_aca   lungaca996.jpeg\n",
      "4997  lung_image_sets  lung_aca   lungaca997.jpeg\n",
      "4998  lung_image_sets  lung_aca   lungaca998.jpeg\n",
      "4999  lung_image_sets  lung_aca   lungaca999.jpeg\n",
      "\n",
      "[5000 rows x 3 columns]\n"
     ]
    }
   ],
   "source": [
    "import pandas as pd\n",
    "from pathlib import Path\n",
    "\n",
    "image_dir_path = 'lung_image_sets/lung_n'\n",
    "paths = [path.parts[-3:] for path in\n",
    "         Path(image_dir_path).rglob('*.jpeg')]\n",
    "df1 = pd.DataFrame(data=paths, columns=['Root', 'Type', 'Images'])\n",
    "print(df1)\n",
    "\n",
    "\n",
    "image_dir_path = 'lung_image_sets/lung_scc'\n",
    "paths = [path.parts[-3:] for path in\n",
    "         Path(image_dir_path).rglob('*.jpeg')]\n",
    "df2 = pd.DataFrame(data=paths, columns=['Root', 'Type', 'Images'])\n",
    "print(df2)\n",
    "image_dir_path ='lung_image_sets/lung_aca'\n",
    "paths = [path.parts[-3:] for path in\n",
    "         Path(image_dir_path).rglob('*.jpeg')]\n",
    "df3 = pd.DataFrame(data=paths, columns=['Root', 'Type', 'Images'])\n",
    "print(df3)"
   ]
  },
  {
   "cell_type": "code",
   "execution_count": 4,
   "metadata": {
    "execution": {
     "iopub.execute_input": "2023-02-21T21:23:58.621607Z",
     "iopub.status.busy": "2023-02-21T21:23:58.621275Z",
     "iopub.status.idle": "2023-02-21T21:23:58.641633Z",
     "shell.execute_reply": "2023-02-21T21:23:58.640129Z",
     "shell.execute_reply.started": "2023-02-21T21:23:58.621579Z"
    }
   },
   "outputs": [
    {
     "data": {
      "text/html": [
       "<div>\n",
       "<style scoped>\n",
       "    .dataframe tbody tr th:only-of-type {\n",
       "        vertical-align: middle;\n",
       "    }\n",
       "\n",
       "    .dataframe tbody tr th {\n",
       "        vertical-align: top;\n",
       "    }\n",
       "\n",
       "    .dataframe thead th {\n",
       "        text-align: right;\n",
       "    }\n",
       "</style>\n",
       "<table border=\"1\" class=\"dataframe\">\n",
       "  <thead>\n",
       "    <tr style=\"text-align: right;\">\n",
       "      <th></th>\n",
       "      <th>index</th>\n",
       "      <th>Root</th>\n",
       "      <th>Type</th>\n",
       "      <th>Images</th>\n",
       "    </tr>\n",
       "  </thead>\n",
       "  <tbody>\n",
       "    <tr>\n",
       "      <th>0</th>\n",
       "      <td>0</td>\n",
       "      <td>lung_image_sets</td>\n",
       "      <td>lung_n</td>\n",
       "      <td>lungn1.jpeg</td>\n",
       "    </tr>\n",
       "    <tr>\n",
       "      <th>1</th>\n",
       "      <td>1</td>\n",
       "      <td>lung_image_sets</td>\n",
       "      <td>lung_n</td>\n",
       "      <td>lungn10.jpeg</td>\n",
       "    </tr>\n",
       "    <tr>\n",
       "      <th>2</th>\n",
       "      <td>2</td>\n",
       "      <td>lung_image_sets</td>\n",
       "      <td>lung_n</td>\n",
       "      <td>lungn100.jpeg</td>\n",
       "    </tr>\n",
       "    <tr>\n",
       "      <th>3</th>\n",
       "      <td>3</td>\n",
       "      <td>lung_image_sets</td>\n",
       "      <td>lung_n</td>\n",
       "      <td>lungn1000.jpeg</td>\n",
       "    </tr>\n",
       "    <tr>\n",
       "      <th>4</th>\n",
       "      <td>4</td>\n",
       "      <td>lung_image_sets</td>\n",
       "      <td>lung_n</td>\n",
       "      <td>lungn1001.jpeg</td>\n",
       "    </tr>\n",
       "    <tr>\n",
       "      <th>...</th>\n",
       "      <td>...</td>\n",
       "      <td>...</td>\n",
       "      <td>...</td>\n",
       "      <td>...</td>\n",
       "    </tr>\n",
       "    <tr>\n",
       "      <th>14995</th>\n",
       "      <td>4995</td>\n",
       "      <td>lung_image_sets</td>\n",
       "      <td>lung_aca</td>\n",
       "      <td>lungaca995.jpeg</td>\n",
       "    </tr>\n",
       "    <tr>\n",
       "      <th>14996</th>\n",
       "      <td>4996</td>\n",
       "      <td>lung_image_sets</td>\n",
       "      <td>lung_aca</td>\n",
       "      <td>lungaca996.jpeg</td>\n",
       "    </tr>\n",
       "    <tr>\n",
       "      <th>14997</th>\n",
       "      <td>4997</td>\n",
       "      <td>lung_image_sets</td>\n",
       "      <td>lung_aca</td>\n",
       "      <td>lungaca997.jpeg</td>\n",
       "    </tr>\n",
       "    <tr>\n",
       "      <th>14998</th>\n",
       "      <td>4998</td>\n",
       "      <td>lung_image_sets</td>\n",
       "      <td>lung_aca</td>\n",
       "      <td>lungaca998.jpeg</td>\n",
       "    </tr>\n",
       "    <tr>\n",
       "      <th>14999</th>\n",
       "      <td>4999</td>\n",
       "      <td>lung_image_sets</td>\n",
       "      <td>lung_aca</td>\n",
       "      <td>lungaca999.jpeg</td>\n",
       "    </tr>\n",
       "  </tbody>\n",
       "</table>\n",
       "<p>15000 rows × 4 columns</p>\n",
       "</div>"
      ],
      "text/plain": [
       "       index             Root      Type           Images\n",
       "0          0  lung_image_sets    lung_n      lungn1.jpeg\n",
       "1          1  lung_image_sets    lung_n     lungn10.jpeg\n",
       "2          2  lung_image_sets    lung_n    lungn100.jpeg\n",
       "3          3  lung_image_sets    lung_n   lungn1000.jpeg\n",
       "4          4  lung_image_sets    lung_n   lungn1001.jpeg\n",
       "...      ...              ...       ...              ...\n",
       "14995   4995  lung_image_sets  lung_aca  lungaca995.jpeg\n",
       "14996   4996  lung_image_sets  lung_aca  lungaca996.jpeg\n",
       "14997   4997  lung_image_sets  lung_aca  lungaca997.jpeg\n",
       "14998   4998  lung_image_sets  lung_aca  lungaca998.jpeg\n",
       "14999   4999  lung_image_sets  lung_aca  lungaca999.jpeg\n",
       "\n",
       "[15000 rows x 4 columns]"
      ]
     },
     "execution_count": 4,
     "metadata": {},
     "output_type": "execute_result"
    }
   ],
   "source": [
    "df = pd.concat([df1,df2,df3])\n",
    "df.reset_index()"
   ]
  },
  {
   "cell_type": "code",
   "execution_count": 5,
   "metadata": {
    "execution": {
     "iopub.execute_input": "2023-02-21T21:23:58.645200Z",
     "iopub.status.busy": "2023-02-21T21:23:58.644157Z",
     "iopub.status.idle": "2023-02-21T21:23:58.671602Z",
     "shell.execute_reply": "2023-02-21T21:23:58.670705Z",
     "shell.execute_reply.started": "2023-02-21T21:23:58.645161Z"
    }
   },
   "outputs": [],
   "source": [
    "import cv2\n",
    "import os\n",
    "from matplotlib import pyplot as plt\n",
    "\n",
    "def load_images(folder):\n",
    "    images = []\n",
    "    for filename in os.listdir(folder):\n",
    "        img = cv2.imread(os.path.join(folder, filename))\n",
    "        if img is not None:\n",
    "            img = cv2.resize(img, (80,80))\n",
    "            images.append(img)\n",
    "            \n",
    "    return np.array(images)"
   ]
  },
  {
   "cell_type": "code",
   "execution_count": 6,
   "metadata": {
    "execution": {
     "iopub.execute_input": "2023-02-21T21:23:58.673460Z",
     "iopub.status.busy": "2023-02-21T21:23:58.673052Z",
     "iopub.status.idle": "2023-02-21T21:26:12.296840Z",
     "shell.execute_reply": "2023-02-21T21:26:12.295573Z",
     "shell.execute_reply.started": "2023-02-21T21:23:58.673430Z"
    }
   },
   "outputs": [],
   "source": [
    "benign = load_images('lung_image_sets/lung_n')\n",
    "mal_aca = load_images('lung_image_sets/lung_aca')\n",
    "mal_scc = load_images('lung_image_sets/lung_scc')"
   ]
  },
  {
   "cell_type": "code",
   "execution_count": 7,
   "metadata": {
    "execution": {
     "iopub.execute_input": "2023-02-21T21:26:12.306569Z",
     "iopub.status.busy": "2023-02-21T21:26:12.301794Z",
     "iopub.status.idle": "2023-02-21T21:26:12.317532Z",
     "shell.execute_reply": "2023-02-21T21:26:12.316169Z",
     "shell.execute_reply.started": "2023-02-21T21:26:12.306526Z"
    }
   },
   "outputs": [
    {
     "name": "stdout",
     "output_type": "stream",
     "text": [
      "Number of images for every class: BENIGN 5000, ADENOCARCINOMAS 5000, SQUAMOS CELL CARCINOMAS 5000.\n",
      "Images shape: (80, 80, 3).\n"
     ]
    }
   ],
   "source": [
    "print(f\"Number of images for every class: BENIGN {benign.shape[0]}, ADENOCARCINOMAS {mal_aca.shape[0]}, SQUAMOS CELL CARCINOMAS {mal_scc.shape[0]}.\")\n",
    "\n",
    "print(f\"Images shape: {benign[0].shape}.\")"
   ]
  },
  {
   "cell_type": "code",
   "execution_count": 8,
   "metadata": {
    "execution": {
     "iopub.execute_input": "2023-02-21T21:26:12.325914Z",
     "iopub.status.busy": "2023-02-21T21:26:12.323262Z",
     "iopub.status.idle": "2023-02-21T21:26:12.850988Z",
     "shell.execute_reply": "2023-02-21T21:26:12.850046Z",
     "shell.execute_reply.started": "2023-02-21T21:26:12.325862Z"
    }
   },
   "outputs": [
    {
     "data": {
      "image/png": "[encoded data removed]",
      "text/plain": [
       "<Figure size 1080x360 with 3 Axes>"
      ]
     },
     "metadata": {
      "needs_background": "light"
     },
     "output_type": "display_data"
    }
   ],
   "source": [
    "indices = [0, 40, 2300]\n",
    "\n",
    "plt.figure(1, figsize=(15,5))\n",
    "plt.grid(None)\n",
    "\n",
    "for n, idx in enumerate(indices):\n",
    "    plt.subplot(n+1, 3, 1) \n",
    "    plt.imshow(benign[idx])\n",
    "    plt.title('benign')\n",
    "    plt.subplot(n+1, 3, 2) \n",
    "    plt.imshow(mal_aca[idx])\n",
    "    plt.title('malignant aca')\n",
    "    plt.subplot(n+1, 3, 3) \n",
    "    plt.imshow(mal_scc[idx])\n",
    "    plt.title('malignant scc')\n",
    "plt.show()"
   ]
  },
  {
   "cell_type": "code",
   "execution_count": 9,
   "metadata": {
    "execution": {
     "iopub.execute_input": "2023-02-21T21:26:12.852453Z",
     "iopub.status.busy": "2023-02-21T21:26:12.852034Z",
     "iopub.status.idle": "2023-02-21T21:26:12.966390Z",
     "shell.execute_reply": "2023-02-21T21:26:12.965255Z",
     "shell.execute_reply.started": "2023-02-21T21:26:12.852411Z"
    }
   },
   "outputs": [],
   "source": [
    "samples = np.concatenate((benign, mal_aca, mal_scc))\n",
    "labels = np.array(benign.shape[0] * [0] + mal_aca.shape[0] * [1] + mal_scc.shape[0] * [2])"
   ]
  },
  {
   "cell_type": "code",
   "execution_count": 10,
   "metadata": {
    "execution": {
     "iopub.execute_input": "2023-02-21T21:26:12.970202Z",
     "iopub.status.busy": "2023-02-21T21:26:12.969120Z",
     "iopub.status.idle": "2023-02-21T21:26:12.976341Z",
     "shell.execute_reply": "2023-02-21T21:26:12.975013Z",
     "shell.execute_reply.started": "2023-02-21T21:26:12.970158Z"
    }
   },
   "outputs": [
    {
     "name": "stdout",
     "output_type": "stream",
     "text": [
      "Samples shape check: (15000, 80, 80, 3).\n",
      "Labels shape check: (15000,).\n"
     ]
    }
   ],
   "source": [
    "print(f\"Samples shape check: {samples.shape}.\")\n",
    "print(f\"Labels shape check: {labels.shape}.\")"
   ]
  },
  {
   "cell_type": "code",
   "execution_count": 11,
   "metadata": {
    "execution": {
     "iopub.execute_input": "2023-02-21T21:26:12.978285Z",
     "iopub.status.busy": "2023-02-21T21:26:12.977827Z",
     "iopub.status.idle": "2023-02-21T21:26:13.454790Z",
     "shell.execute_reply": "2023-02-21T21:26:13.453503Z",
     "shell.execute_reply.started": "2023-02-21T21:26:12.978247Z"
    }
   },
   "outputs": [],
   "source": [
    "indices = np.arange(samples.shape[0])\n",
    "np.random.shuffle(indices)\n",
    "\n",
    "samples = samples[indices]\n",
    "labels = labels[indices]\n",
    "\n",
    "# normalize pictures\n",
    "samples = samples.astype('float32') / 255"
   ]
  },
  {
   "cell_type": "code",
   "execution_count": 12,
   "metadata": {
    "execution": {
     "iopub.execute_input": "2023-02-21T21:26:13.457122Z",
     "iopub.status.busy": "2023-02-21T21:26:13.456665Z",
     "iopub.status.idle": "2023-02-21T21:26:14.290313Z",
     "shell.execute_reply": "2023-02-21T21:26:14.289146Z",
     "shell.execute_reply.started": "2023-02-21T21:26:13.457058Z"
    }
   },
   "outputs": [],
   "source": [
    "from sklearn.model_selection import train_test_split\n",
    "\n",
    "X_train, X_test, y_train, y_test = train_test_split(samples, labels, test_size = 0.2)\n",
    "X_val, X_test, y_val, y_test = train_test_split(X_test, y_test, test_size = 0.5)"
   ]
  },
  {
   "cell_type": "code",
   "execution_count": 13,
   "metadata": {
    "execution": {
     "iopub.execute_input": "2023-02-21T21:26:14.296165Z",
     "iopub.status.busy": "2023-02-21T21:26:14.295322Z",
     "iopub.status.idle": "2023-02-21T21:26:14.306104Z",
     "shell.execute_reply": "2023-02-21T21:26:14.304732Z",
     "shell.execute_reply.started": "2023-02-21T21:26:14.296132Z"
    }
   },
   "outputs": [
    {
     "name": "stdout",
     "output_type": "stream",
     "text": [
      "[0. 0. 1.]\n",
      "Y_train shape after one hot encoding: (1500, 3)\n",
      "Y_train shape after one hot encoding: (1500, 80, 80, 3)\n"
     ]
    }
   ],
   "source": [
    "Y_train = np_utils.to_categorical(y_train, 3)\n",
    "Y_val = np_utils.to_categorical(y_val, 3)\n",
    "Y_test = np_utils.to_categorical(y_test, 3)\n",
    "\n",
    "print(Y_train[0])\n",
    "print(f\"Y_train shape after one hot encoding: {Y_val.shape}\")\n",
    "print(f\"Y_train shape after one hot encoding: {X_val.shape}\")"
   ]
  }
 ],
 "metadata": {
  "kernelspec": {
   "display_name": "Python 3 (ipykernel)",
   "language": "python",
   "name": "python3"
  },
  "language_info": {
   "codemirror_mode": {
    "name": "ipython",
    "version": 3
   },
   "file_extension": ".py",
   "mimetype": "text/x-python",
   "name": "python",
   "nbconvert_exporter": "python",
   "pygments_lexer": "ipython3",
   "version": "3.9.7"
  }
 },
 "nbformat": 4,
 "nbformat_minor": 4
}
