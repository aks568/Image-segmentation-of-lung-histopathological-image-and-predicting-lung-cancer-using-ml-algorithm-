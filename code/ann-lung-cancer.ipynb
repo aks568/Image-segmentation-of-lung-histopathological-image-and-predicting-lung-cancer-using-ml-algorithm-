{
 "cells": [
  {
   "cell_type": "code",
   "execution_count": 1,
   "metadata": {
    "execution": {
     "iopub.execute_input": "2023-02-13T01:36:49.372086Z",
     "iopub.status.busy": "2023-02-13T01:36:49.371544Z",
     "iopub.status.idle": "2023-02-13T01:36:49.405445Z",
     "shell.execute_reply": "2023-02-13T01:36:49.404308Z",
     "shell.execute_reply.started": "2023-02-13T01:36:49.371965Z"
    }
   },
   "outputs": [],
   "source": [
    "import os\n",
    "loc = 'lung_image_sets'"
   ]
  },
  {
   "cell_type": "code",
   "execution_count": 2,
   "metadata": {
    "execution": {
     "iopub.execute_input": "2023-02-13T01:37:07.819151Z",
     "iopub.status.busy": "2023-02-13T01:37:07.818572Z",
     "iopub.status.idle": "2023-02-13T01:37:07.831986Z",
     "shell.execute_reply": "2023-02-13T01:37:07.830932Z",
     "shell.execute_reply.started": "2023-02-13T01:37:07.819103Z"
    }
   },
   "outputs": [
    {
     "name": "stdout",
     "output_type": "stream",
     "text": [
      "['lung_aca', 'lung_n', 'lung_scc']\n"
     ]
    }
   ],
   "source": [
    "print(os.listdir(loc))"
   ]
  },
  {
   "cell_type": "code",
   "execution_count": 3,
   "metadata": {
    "execution": {
     "iopub.execute_input": "2023-02-13T01:37:44.832899Z",
     "iopub.status.busy": "2023-02-13T01:37:44.832509Z",
     "iopub.status.idle": "2023-02-13T01:41:34.657468Z",
     "shell.execute_reply": "2023-02-13T01:41:34.656334Z",
     "shell.execute_reply.started": "2023-02-13T01:37:44.832866Z"
    }
   },
   "outputs": [
    {
     "name": "stdout",
     "output_type": "stream",
     "text": [
      "lung_image_sets\\lung_aca\n",
      "*************\n"
     ]
    },
    {
     "name": "stderr",
     "output_type": "stream",
     "text": [
      "100%|██████████| 5000/5000 [01:55<00:00, 43.29it/s]\n"
     ]
    },
    {
     "name": "stdout",
     "output_type": "stream",
     "text": [
      "lung_image_sets\\lung_n\n",
      "*************\n"
     ]
    },
    {
     "name": "stderr",
     "output_type": "stream",
     "text": [
      "100%|██████████| 5000/5000 [01:51<00:00, 44.80it/s]\n"
     ]
    },
    {
     "name": "stdout",
     "output_type": "stream",
     "text": [
      "lung_image_sets\\lung_scc\n",
      "*************\n"
     ]
    },
    {
     "name": "stderr",
     "output_type": "stream",
     "text": [
      "100%|██████████| 5000/5000 [01:55<00:00, 43.19it/s]\n"
     ]
    }
   ],
   "source": [
    "import cv2\n",
    "from tqdm import tqdm\n",
    "features = []\n",
    "\n",
    "for dir in os.listdir(loc):\n",
    "    sub_dir = os.path.join(loc,dir)\n",
    "    print(sub_dir)\n",
    "    print('*************')\n",
    "    for img in tqdm(os.listdir(sub_dir)):\n",
    "        f = cv2.imread(os.path.join(sub_dir , img))\n",
    "        f = cv2.cvtColor(f , cv2.COLOR_BGR2GRAY)\n",
    "        f = cv2.resize(f , (100,100))\n",
    "        features.append(f)"
   ]
  },
  {
   "cell_type": "code",
   "execution_count": 4,
   "metadata": {
    "execution": {
     "iopub.execute_input": "2023-02-13T01:41:52.293314Z",
     "iopub.status.busy": "2023-02-13T01:41:52.292959Z",
     "iopub.status.idle": "2023-02-13T01:41:52.355903Z",
     "shell.execute_reply": "2023-02-13T01:41:52.354924Z",
     "shell.execute_reply.started": "2023-02-13T01:41:52.293283Z"
    }
   },
   "outputs": [
    {
     "name": "stdout",
     "output_type": "stream",
     "text": [
      "(15000, 100, 100)\n"
     ]
    }
   ],
   "source": [
    "import numpy as np\n",
    "X = np.array(features)\n",
    "print(X.shape)"
   ]
  },
  {
   "cell_type": "code",
   "execution_count": 5,
   "metadata": {
    "execution": {
     "iopub.execute_input": "2023-02-13T01:42:13.003809Z",
     "iopub.status.busy": "2023-02-13T01:42:13.003159Z",
     "iopub.status.idle": "2023-02-13T01:42:13.059738Z",
     "shell.execute_reply": "2023-02-13T01:42:13.058805Z",
     "shell.execute_reply.started": "2023-02-13T01:42:13.003762Z"
    }
   },
   "outputs": [
    {
     "name": "stdout",
     "output_type": "stream",
     "text": [
      "lung_image_sets\\lung_aca\n",
      "*************\n"
     ]
    },
    {
     "name": "stderr",
     "output_type": "stream",
     "text": [
      "100%|██████████| 5000/5000 [00:00<00:00, 909669.47it/s]\n"
     ]
    },
    {
     "name": "stdout",
     "output_type": "stream",
     "text": [
      "lung_image_sets\\lung_n\n",
      "*************\n"
     ]
    },
    {
     "name": "stderr",
     "output_type": "stream",
     "text": [
      "100%|██████████| 5000/5000 [00:00<00:00, 1553561.00it/s]\n"
     ]
    },
    {
     "name": "stdout",
     "output_type": "stream",
     "text": [
      "lung_image_sets\\lung_scc\n",
      "*************\n"
     ]
    },
    {
     "name": "stderr",
     "output_type": "stream",
     "text": [
      "100%|██████████| 5000/5000 [00:00<00:00, 717883.13it/s]\n"
     ]
    }
   ],
   "source": [
    "labels = []\n",
    "i = 0\n",
    "\n",
    "for dir in os.listdir(loc):\n",
    "    sub_dir = os.path.join(loc,dir)\n",
    "    print(sub_dir)\n",
    "    print('*************')\n",
    "    for img in tqdm(os.listdir(sub_dir)):\n",
    "        labels.append(i)\n",
    "    i = i + 1"
   ]
  },
  {
   "cell_type": "code",
   "execution_count": 6,
   "metadata": {
    "execution": {
     "iopub.execute_input": "2023-02-13T01:42:35.388510Z",
     "iopub.status.busy": "2023-02-13T01:42:35.388137Z",
     "iopub.status.idle": "2023-02-13T01:42:35.396396Z",
     "shell.execute_reply": "2023-02-13T01:42:35.395235Z",
     "shell.execute_reply.started": "2023-02-13T01:42:35.388472Z"
    }
   },
   "outputs": [
    {
     "name": "stdout",
     "output_type": "stream",
     "text": [
      "(15000,)\n"
     ]
    }
   ],
   "source": [
    "Y = np.array(labels)\n",
    "print(Y.shape)"
   ]
  },
  {
   "cell_type": "code",
   "execution_count": 7,
   "metadata": {
    "execution": {
     "iopub.execute_input": "2023-02-13T01:42:44.772994Z",
     "iopub.status.busy": "2023-02-13T01:42:44.772640Z",
     "iopub.status.idle": "2023-02-13T01:42:44.781254Z",
     "shell.execute_reply": "2023-02-13T01:42:44.780239Z",
     "shell.execute_reply.started": "2023-02-13T01:42:44.772964Z"
    }
   },
   "outputs": [
    {
     "data": {
      "text/plain": [
       "2"
      ]
     },
     "execution_count": 7,
     "metadata": {},
     "output_type": "execute_result"
    }
   ],
   "source": [
    "Y[-1]"
   ]
  },
  {
   "cell_type": "code",
   "execution_count": 8,
   "metadata": {
    "execution": {
     "iopub.execute_input": "2023-02-13T01:43:03.496796Z",
     "iopub.status.busy": "2023-02-13T01:43:03.496192Z",
     "iopub.status.idle": "2023-02-13T01:43:04.233584Z",
     "shell.execute_reply": "2023-02-13T01:43:04.232430Z",
     "shell.execute_reply.started": "2023-02-13T01:43:03.496751Z"
    }
   },
   "outputs": [],
   "source": [
    "from sklearn.model_selection import train_test_split\n",
    "xtrain,xtest,ytrain,ytest = train_test_split(X,Y)"
   ]
  },
  {
   "cell_type": "code",
   "execution_count": 9,
   "metadata": {
    "execution": {
     "iopub.execute_input": "2023-02-13T01:43:13.687562Z",
     "iopub.status.busy": "2023-02-13T01:43:13.687151Z",
     "iopub.status.idle": "2023-02-13T01:43:13.693787Z",
     "shell.execute_reply": "2023-02-13T01:43:13.692549Z",
     "shell.execute_reply.started": "2023-02-13T01:43:13.687528Z"
    }
   },
   "outputs": [
    {
     "name": "stdout",
     "output_type": "stream",
     "text": [
      "(11250, 100, 100)\n",
      "(3750, 100, 100)\n"
     ]
    }
   ],
   "source": [
    "print(xtrain.shape)\n",
    "print(xtest.shape)"
   ]
  },
  {
   "cell_type": "code",
   "execution_count": 10,
   "metadata": {
    "execution": {
     "iopub.execute_input": "2023-02-13T01:43:43.303362Z",
     "iopub.status.busy": "2023-02-13T01:43:43.302984Z",
     "iopub.status.idle": "2023-02-13T01:43:43.310708Z",
     "shell.execute_reply": "2023-02-13T01:43:43.309768Z",
     "shell.execute_reply.started": "2023-02-13T01:43:43.303315Z"
    }
   },
   "outputs": [
    {
     "data": {
      "text/plain": [
       "(11250, 10000)"
      ]
     },
     "execution_count": 10,
     "metadata": {},
     "output_type": "execute_result"
    }
   ],
   "source": [
    "xtrainS = xtrain.reshape(11250,-1)\n",
    "xtestS = xtest.reshape(3750,-1)\n",
    "xtrainS.shape"
   ]
  },
  {
   "cell_type": "code",
   "execution_count": 11,
   "metadata": {
    "execution": {
     "iopub.execute_input": "2023-02-13T01:43:59.557637Z",
     "iopub.status.busy": "2023-02-13T01:43:59.557157Z",
     "iopub.status.idle": "2023-02-13T01:44:00.763175Z",
     "shell.execute_reply": "2023-02-13T01:44:00.762155Z",
     "shell.execute_reply.started": "2023-02-13T01:43:59.557597Z"
    }
   },
   "outputs": [],
   "source": [
    "from sklearn.preprocessing import MinMaxScaler\n",
    "scl = MinMaxScaler()\n",
    "\n",
    "scl.fit(xtrainS)\n",
    "\n",
    "xtrainS = scl.transform(xtrainS)\n",
    "xtestS = scl.transform(xtestS)"
   ]
  },
  {
   "cell_type": "code",
   "execution_count": 12,
   "metadata": {
    "execution": {
     "iopub.execute_input": "2023-02-13T01:44:14.498477Z",
     "iopub.status.busy": "2023-02-13T01:44:14.498092Z",
     "iopub.status.idle": "2023-02-13T01:44:14.745773Z",
     "shell.execute_reply": "2023-02-13T01:44:14.744839Z",
     "shell.execute_reply.started": "2023-02-13T01:44:14.498427Z"
    }
   },
   "outputs": [
    {
     "data": {
      "image/png": "[encoded data removed]",
      "text/plain": [
       "<Figure size 432x288 with 1 Axes>"
      ]
     },
     "metadata": {
      "needs_background": "light"
     },
     "output_type": "display_data"
    }
   ],
   "source": [
    "import matplotlib.pyplot as plt\n",
    "plt.imshow(xtrainS[5000].reshape(100,100))\n",
    "plt.show()"
   ]
  },
  {
   "cell_type": "code",
   "execution_count": 13,
   "metadata": {
    "execution": {
     "iopub.execute_input": "2023-02-13T01:44:38.062418Z",
     "iopub.status.busy": "2023-02-13T01:44:38.061360Z",
     "iopub.status.idle": "2023-02-13T01:44:43.965024Z",
     "shell.execute_reply": "2023-02-13T01:44:43.963944Z",
     "shell.execute_reply.started": "2023-02-13T01:44:38.062379Z"
    }
   },
   "outputs": [],
   "source": [
    "import tensorflow as tf\n",
    "\n",
    "ytrainS = tf.keras.utils.to_categorical(ytrain)\n",
    "ytestS = tf.keras.utils.to_categorical(ytest)"
   ]
  },
  {
   "cell_type": "code",
   "execution_count": 17,
   "metadata": {
    "execution": {
     "iopub.execute_input": "2023-02-13T01:48:28.616176Z",
     "iopub.status.busy": "2023-02-13T01:48:28.615808Z",
     "iopub.status.idle": "2023-02-13T01:48:28.688930Z",
     "shell.execute_reply": "2023-02-13T01:48:28.687761Z",
     "shell.execute_reply.started": "2023-02-13T01:48:28.616146Z"
    }
   },
   "outputs": [
    {
     "name": "stdout",
     "output_type": "stream",
     "text": [
      "Model: \"sequential_1\"\n",
      "_________________________________________________________________\n",
      "Layer (type)                 Output Shape              Param #   \n",
      "=================================================================\n",
      "dense_6 (Dense)              (None, 2056)              20562056  \n",
      "_________________________________________________________________\n",
      "dropout_5 (Dropout)          (None, 2056)              0         \n",
      "_________________________________________________________________\n",
      "dense_7 (Dense)              (None, 1024)              2106368   \n",
      "_________________________________________________________________\n",
      "dropout_6 (Dropout)          (None, 1024)              0         \n",
      "_________________________________________________________________\n",
      "dense_8 (Dense)              (None, 1024)              1049600   \n",
      "_________________________________________________________________\n",
      "dropout_7 (Dropout)          (None, 1024)              0         \n",
      "_________________________________________________________________\n",
      "dense_9 (Dense)              (None, 512)               524800    \n",
      "_________________________________________________________________\n",
      "dropout_8 (Dropout)          (None, 512)               0         \n",
      "_________________________________________________________________\n",
      "dense_10 (Dense)             (None, 256)               131328    \n",
      "_________________________________________________________________\n",
      "dropout_9 (Dropout)          (None, 256)               0         \n",
      "_________________________________________________________________\n",
      "dense_11 (Dense)             (None, 3)                 771       \n",
      "=================================================================\n",
      "Total params: 24,374,923\n",
      "Trainable params: 24,374,923\n",
      "Non-trainable params: 0\n",
      "_________________________________________________________________\n"
     ]
    }
   ],
   "source": [
    "from keras import models,layers,optimizers,regularizers\n",
    "\n",
    "model = models.Sequential()\n",
    "\n",
    "model.add(layers.Dense(2056 ,  kernel_regularizer = regularizers.l2(0.001) , activation = 'relu' , input_dim = 10000))\n",
    "model.add(layers.Dropout(0.1))\n",
    "\n",
    "model.add(layers.Dense(1024 , kernel_regularizer = regularizers.l2(0.001) , activation = 'relu'))\n",
    "model.add(layers.Dropout(0.1))\n",
    "\n",
    "model.add(layers.Dense(1024 , kernel_regularizer = regularizers.l2(0.001) , activation = 'relu'))\n",
    "model.add(layers.Dropout(0.1))\n",
    "\n",
    "model.add(layers.Dense(512 , kernel_regularizer = regularizers.l2(0.001) , activation = 'relu'))\n",
    "model.add(layers.Dropout(0.1))\n",
    "\n",
    "model.add(layers.Dense(256 , kernel_regularizer = regularizers.l2(0.001) , activation = 'relu'))\n",
    "model.add(layers.Dropout(0.1))\n",
    "\n",
    "model.add(layers.Dense(3 , kernel_regularizer = regularizers.l2(0.001) , activation = 'sigmoid'))\n",
    "\n",
    "model.summary()"
   ]
  },
  {
   "cell_type": "code",
   "execution_count": 18,
   "metadata": {
    "execution": {
     "iopub.execute_input": "2023-02-13T01:48:35.107471Z",
     "iopub.status.busy": "2023-02-13T01:48:35.107106Z",
     "iopub.status.idle": "2023-02-13T01:48:35.117574Z",
     "shell.execute_reply": "2023-02-13T01:48:35.116527Z",
     "shell.execute_reply.started": "2023-02-13T01:48:35.107427Z"
    }
   },
   "outputs": [],
   "source": [
    "import tensorflow as tf\n",
    "\n",
    "sgd = tf.keras.optimizers.SGD(0.01)\n",
    "model.compile(loss='binary_crossentropy' , optimizer=sgd , metrics=['accuracy'])"
   ]
  },
  {
   "cell_type": "code",
   "execution_count": 22,
   "metadata": {
    "execution": {
     "iopub.execute_input": "2023-02-13T02:02:10.918189Z",
     "iopub.status.busy": "2023-02-13T02:02:10.917823Z",
     "iopub.status.idle": "2023-02-13T02:02:10.924676Z",
     "shell.execute_reply": "2023-02-13T02:02:10.923432Z",
     "shell.execute_reply.started": "2023-02-13T02:02:10.918157Z"
    }
   },
   "outputs": [],
   "source": [
    "class myCallback(tf.keras.callbacks.Callback):\n",
    "        def on_epoch_end(self, epoch, logs={}):\n",
    "            if logs.get('val_accuracy') >= 0.81:\n",
    "                print('\\nReached 81.0% accuracy so cancelling training!')\n",
    "                self.model.stop_training=True\n",
    "                \n",
    "callbacks = myCallback()"
   ]
  },
  {
   "cell_type": "code",
   "execution_count": 25,
   "metadata": {
    "execution": {
     "iopub.execute_input": "2023-02-13T02:02:58.783642Z",
     "iopub.status.busy": "2023-02-13T02:02:58.783265Z",
     "iopub.status.idle": "2023-02-13T02:02:58.789124Z",
     "shell.execute_reply": "2023-02-13T02:02:58.788068Z",
     "shell.execute_reply.started": "2023-02-13T02:02:58.783608Z"
    }
   },
   "outputs": [],
   "source": [
    "# setting up early stopping to stop training when max acc is reached\n",
    "# we are using validation loss as parameter for monitoring the training process\n",
    "from tensorflow.keras.callbacks import EarlyStopping\n",
    "from keras.callbacks import CSVLogger\n",
    "early_stopping = EarlyStopping(monitor='val_loss', \n",
    "                               patience=3)\n",
    "\n",
    "logger = CSVLogger('logs.csv', append=True)"
   ]
  },
  {
   "cell_type": "code",
   "execution_count": 26,
   "metadata": {
    "execution": {
     "iopub.execute_input": "2023-02-13T02:03:04.325342Z",
     "iopub.status.busy": "2023-02-13T02:03:04.324190Z",
     "iopub.status.idle": "2023-02-13T02:05:00.293658Z",
     "shell.execute_reply": "2023-02-13T02:05:00.292528Z",
     "shell.execute_reply.started": "2023-02-13T02:03:04.325297Z"
    }
   },
   "outputs": [
    {
     "name": "stdout",
     "output_type": "stream",
     "text": [
      "Epoch 1/100\n",
      "352/352 [==============================] - 4s 12ms/step - loss: 1.1746 - accuracy: 0.8516 - val_loss: 1.2713 - val_accuracy: 0.7869\n",
      "Epoch 2/100\n",
      "352/352 [==============================] - 4s 11ms/step - loss: 1.1647 - accuracy: 0.8482 - val_loss: 1.4182 - val_accuracy: 0.6693\n",
      "Epoch 3/100\n",
      "352/352 [==============================] - 4s 11ms/step - loss: 1.1498 - accuracy: 0.8532 - val_loss: 1.2510 - val_accuracy: 0.7981\n",
      "Epoch 4/100\n",
      "352/352 [==============================] - 4s 11ms/step - loss: 1.1512 - accuracy: 0.8450 - val_loss: 1.2735 - val_accuracy: 0.7368\n",
      "Epoch 5/100\n",
      "352/352 [==============================] - 4s 11ms/step - loss: 1.1307 - accuracy: 0.8497 - val_loss: 1.2732 - val_accuracy: 0.7443\n",
      "Epoch 6/100\n",
      "352/352 [==============================] - 4s 11ms/step - loss: 1.1026 - accuracy: 0.8649 - val_loss: 1.4310 - val_accuracy: 0.6592\n",
      "Epoch 7/100\n",
      "352/352 [==============================] - 4s 11ms/step - loss: 1.1119 - accuracy: 0.8481 - val_loss: 1.2507 - val_accuracy: 0.7760\n",
      "Epoch 8/100\n",
      "352/352 [==============================] - 4s 11ms/step - loss: 1.0953 - accuracy: 0.8565 - val_loss: 1.2321 - val_accuracy: 0.7440\n",
      "Epoch 9/100\n",
      "352/352 [==============================] - 4s 11ms/step - loss: 1.0758 - accuracy: 0.8608 - val_loss: 1.2650 - val_accuracy: 0.7280\n",
      "Epoch 10/100\n",
      "352/352 [==============================] - 4s 11ms/step - loss: 1.0845 - accuracy: 0.8514 - val_loss: 1.3520 - val_accuracy: 0.6547\n",
      "Epoch 11/100\n",
      "352/352 [==============================] - 4s 11ms/step - loss: 1.0673 - accuracy: 0.8490 - val_loss: 1.2009 - val_accuracy: 0.7635\n",
      "Epoch 12/100\n",
      "352/352 [==============================] - 4s 11ms/step - loss: 1.0575 - accuracy: 0.8528 - val_loss: 1.2172 - val_accuracy: 0.7621\n",
      "Epoch 13/100\n",
      "352/352 [==============================] - 4s 11ms/step - loss: 1.0507 - accuracy: 0.8548 - val_loss: 1.1934 - val_accuracy: 0.7589\n",
      "Epoch 14/100\n",
      "352/352 [==============================] - 4s 11ms/step - loss: 1.0443 - accuracy: 0.8489 - val_loss: 1.1341 - val_accuracy: 0.8059\n",
      "Epoch 15/100\n",
      "352/352 [==============================] - 4s 11ms/step - loss: 1.0237 - accuracy: 0.8548 - val_loss: 1.1898 - val_accuracy: 0.7752\n",
      "Epoch 16/100\n",
      "352/352 [==============================] - 4s 11ms/step - loss: 1.0151 - accuracy: 0.8580 - val_loss: 1.3232 - val_accuracy: 0.6376\n",
      "Epoch 17/100\n",
      "352/352 [==============================] - 4s 11ms/step - loss: 0.9938 - accuracy: 0.8674 - val_loss: 1.1215 - val_accuracy: 0.7896\n",
      "Epoch 18/100\n",
      "352/352 [==============================] - 4s 11ms/step - loss: 0.9805 - accuracy: 0.8722 - val_loss: 1.4369 - val_accuracy: 0.6029\n",
      "Epoch 19/100\n",
      "352/352 [==============================] - 4s 11ms/step - loss: 0.9816 - accuracy: 0.8633 - val_loss: 1.2516 - val_accuracy: 0.6664\n",
      "Epoch 20/100\n",
      "352/352 [==============================] - 4s 11ms/step - loss: 0.9891 - accuracy: 0.8528 - val_loss: 1.1923 - val_accuracy: 0.6933\n",
      "Epoch 21/100\n",
      "352/352 [==============================] - 4s 11ms/step - loss: 0.9463 - accuracy: 0.8790 - val_loss: 1.1814 - val_accuracy: 0.7101\n",
      "Epoch 22/100\n",
      "352/352 [==============================] - 4s 11ms/step - loss: 0.9637 - accuracy: 0.8590 - val_loss: 1.1707 - val_accuracy: 0.7032\n",
      "Epoch 23/100\n",
      "352/352 [==============================] - 4s 11ms/step - loss: 0.9347 - accuracy: 0.8722 - val_loss: 1.1284 - val_accuracy: 0.7448\n",
      "Epoch 24/100\n",
      "352/352 [==============================] - 4s 11ms/step - loss: 0.9695 - accuracy: 0.8372 - val_loss: 1.0412 - val_accuracy: 0.7912\n",
      "Epoch 25/100\n",
      "352/352 [==============================] - 4s 11ms/step - loss: 0.9452 - accuracy: 0.8540 - val_loss: 1.1696 - val_accuracy: 0.7381\n",
      "Epoch 26/100\n",
      "352/352 [==============================] - 4s 11ms/step - loss: 0.9392 - accuracy: 0.8522 - val_loss: 1.0291 - val_accuracy: 0.8035\n",
      "Epoch 27/100\n",
      "352/352 [==============================] - 4s 11ms/step - loss: 0.9007 - accuracy: 0.8729 - val_loss: 1.0299 - val_accuracy: 0.8019\n",
      "Epoch 28/100\n",
      "352/352 [==============================] - 4s 11ms/step - loss: 0.9215 - accuracy: 0.8545 - val_loss: 1.0157 - val_accuracy: 0.7965\n",
      "Epoch 29/100\n",
      "352/352 [==============================] - 4s 11ms/step - loss: 0.8911 - accuracy: 0.8677 - val_loss: 1.0396 - val_accuracy: 0.7741\n",
      "Epoch 30/100\n",
      "352/352 [==============================] - 4s 11ms/step - loss: 0.8747 - accuracy: 0.8738 - val_loss: 0.9896 - val_accuracy: 0.8131\n",
      "\n",
      "Reached 81.0% accuracy so cancelling training!\n"
     ]
    },
    {
     "data": {
      "text/plain": [
       "<keras.callbacks.History at 0x7f66400dcf50>"
      ]
     },
     "execution_count": 26,
     "metadata": {},
     "output_type": "execute_result"
    }
   ],
   "source": [
    "model.fit(xtrainS,ytrainS,\n",
    "         epochs=100,\n",
    "         validation_data=(xtestS,ytestS),\n",
    "         callbacks=[callbacks, logger])"
   ]
  }
 ],
 "metadata": {
  "kernelspec": {
   "display_name": "Python 3 (ipykernel)",
   "language": "python",
   "name": "python3"
  },
  "language_info": {
   "codemirror_mode": {
    "name": "ipython",
    "version": 3
   },
   "file_extension": ".py",
   "mimetype": "text/x-python",
   "name": "python",
   "nbconvert_exporter": "python",
   "pygments_lexer": "ipython3",
   "version": "3.9.7"
  }
 },
 "nbformat": 4,
 "nbformat_minor": 4
}
