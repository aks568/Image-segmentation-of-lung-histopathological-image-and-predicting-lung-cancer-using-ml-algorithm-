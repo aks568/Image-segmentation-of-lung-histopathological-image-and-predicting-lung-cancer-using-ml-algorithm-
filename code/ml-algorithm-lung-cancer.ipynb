{
 "cells": [
  {
   "cell_type": "markdown",
   "metadata": {},
   "source": [
    "# **IMPORTING LIBRARIES**"
   ]
  },
  {
   "cell_type": "code",
   "execution_count": 1,
   "metadata": {
    "execution": {
     "iopub.execute_input": "2023-02-25T20:35:21.374276Z",
     "iopub.status.busy": "2023-02-25T20:35:21.373486Z",
     "iopub.status.idle": "2023-02-25T20:35:24.078705Z",
     "shell.execute_reply": "2023-02-25T20:35:24.077161Z",
     "shell.execute_reply.started": "2023-02-25T20:35:21.374191Z"
    }
   },
   "outputs": [
    {
     "name": "stdout",
     "output_type": "stream",
     "text": [
      "Files imported successfully\n"
     ]
    }
   ],
   "source": [
    "import numpy as np\n",
    "from tensorflow.keras.preprocessing import image\n",
    "import cv2 as cv\n",
    "import matplotlib.pyplot as plt\n",
    "from pathlib import Path\n",
    "from sklearn.model_selection import GridSearchCV, train_test_split\n",
    "from skimage.io import imread\n",
    "print(\"Files imported successfully\")\n",
    "import pandas as pd\n",
    "import warnings\n",
    "warnings.filterwarnings('ignore')\n",
    "pd.set_option('display.max_columns', 30*30 + 1)"
   ]
  },
  {
   "cell_type": "code",
   "execution_count": 2,
   "metadata": {
    "execution": {
     "iopub.execute_input": "2023-02-25T20:35:24.086571Z",
     "iopub.status.busy": "2023-02-25T20:35:24.086181Z",
     "iopub.status.idle": "2023-02-25T20:35:24.098619Z",
     "shell.execute_reply": "2023-02-25T20:35:24.097198Z",
     "shell.execute_reply.started": "2023-02-25T20:35:24.086532Z"
    }
   },
   "outputs": [],
   "source": [
    "def load_image_files(container_path, dimension=(64, 64)):\n",
    "    image_dir = Path(container_path)\n",
    "    folders = [directory for directory in image_dir.iterdir() if directory.is_dir()]\n",
    "    categories = [fo.name for fo in folders]\n",
    "\n",
    "    descr = \"A image classification dataset\"\n",
    "    images = []\n",
    "    flat_data = []\n",
    "    target = []\n",
    "    count = 0\n",
    "    train_img = []\n",
    "    for i, direc in enumerate(folders):\n",
    "        for file in direc.iterdir():\n",
    "            count += 1\n",
    "            img = imread(file)\n",
    "            img_pred = cv.resize(img, (50, 50), interpolation=cv.INTER_AREA)\n",
    "            img_pred = image.img_to_array(img_pred)\n",
    "            img_pred = img_pred / 255\n",
    "            train_img.append(img_pred)\n",
    "\n",
    "    X = np.array(train_img)\n",
    "\n",
    "    return X"
   ]
  },
  {
   "cell_type": "code",
   "execution_count": 3,
   "metadata": {
    "execution": {
     "iopub.execute_input": "2023-02-25T20:35:24.100942Z",
     "iopub.status.busy": "2023-02-25T20:35:24.100509Z",
     "iopub.status.idle": "2023-02-25T20:39:28.339730Z",
     "shell.execute_reply": "2023-02-25T20:39:28.338664Z",
     "shell.execute_reply.started": "2023-02-25T20:35:24.100901Z"
    }
   },
   "outputs": [],
   "source": [
    "X = []\n",
    "X = load_image_files(\"lung_image_sets\")"
   ]
  },
  {
   "cell_type": "code",
   "execution_count": 4,
   "metadata": {
    "execution": {
     "iopub.execute_input": "2023-02-25T20:39:28.344121Z",
     "iopub.status.busy": "2023-02-25T20:39:28.343042Z",
     "iopub.status.idle": "2023-02-25T20:39:28.348994Z",
     "shell.execute_reply": "2023-02-25T20:39:28.348030Z",
     "shell.execute_reply.started": "2023-02-25T20:39:28.344076Z"
    }
   },
   "outputs": [],
   "source": [
    "y0 = np.zeros(5000)\n",
    "\n",
    "y1 = np.ones(5000)\n",
    "\n",
    "y2 = np.zeros(5000)"
   ]
  },
  {
   "cell_type": "code",
   "execution_count": 5,
   "metadata": {
    "execution": {
     "iopub.execute_input": "2023-02-25T20:39:28.351196Z",
     "iopub.status.busy": "2023-02-25T20:39:28.350559Z",
     "iopub.status.idle": "2023-02-25T20:39:28.517937Z",
     "shell.execute_reply": "2023-02-25T20:39:28.516750Z",
     "shell.execute_reply.started": "2023-02-25T20:39:28.351148Z"
    }
   },
   "outputs": [
    {
     "name": "stdout",
     "output_type": "stream",
     "text": [
      "X_train: (12000, 50, 50, 3)\n",
      "X_test: (1500, 50, 50, 3)\n",
      "X_val: (1500, 50, 50, 3)\n",
      "y_train: (12000,)\n",
      "y_test: (1500,)\n",
      "y_val: (1500,)\n"
     ]
    }
   ],
   "source": [
    "y = []\n",
    "y = np.concatenate((y0,y1,y2), axis=0)\n",
    "X_train, X_test, y_train, y_test = train_test_split(X, y, random_state=42, test_size=0.2)\n",
    "X_val, X_test, y_val, y_test = train_test_split(X_test, y_test, random_state=42, test_size=0.5)\n",
    "print(\"X_train: \"+str(X_train.shape))\n",
    "print(\"X_test: \"+str(X_test.shape))\n",
    "print(\"X_val: \"+str(X_val.shape))\n",
    "print(\"y_train: \"+str(y_train.shape))\n",
    "print(\"y_test: \"+str(y_test.shape))\n",
    "print(\"y_val: \"+str(y_val.shape))"
   ]
  },
  {
   "cell_type": "code",
   "execution_count": 6,
   "metadata": {
    "execution": {
     "iopub.execute_input": "2023-02-25T20:39:28.520286Z",
     "iopub.status.busy": "2023-02-25T20:39:28.519617Z",
     "iopub.status.idle": "2023-02-25T20:39:28.666131Z",
     "shell.execute_reply": "2023-02-25T20:39:28.665097Z",
     "shell.execute_reply.started": "2023-02-25T20:39:28.520245Z"
    }
   },
   "outputs": [],
   "source": [
    "from builtins import range\n",
    "from builtins import object\n",
    "\n",
    "num_training = X_train.shape[0]\n",
    "mask = list(range(num_training))\n",
    "X_train = X_train[mask]\n",
    "y_train = y_train[mask]\n",
    "\n",
    "num_test = X_test.shape[0]\n",
    "mask = list(range(num_test))\n",
    "X_test = X_test[mask]\n",
    "y_test = y_test[mask]\n",
    "\n",
    "num_val = X_val.shape[0]\n",
    "mask = list(range(num_val))\n",
    "X_val = X_val[mask]\n",
    "y_val = y_val[mask]\n"
   ]
  },
  {
   "cell_type": "code",
   "execution_count": 7,
   "metadata": {
    "execution": {
     "iopub.execute_input": "2023-02-25T20:39:28.668280Z",
     "iopub.status.busy": "2023-02-25T20:39:28.667686Z",
     "iopub.status.idle": "2023-02-25T20:39:28.675310Z",
     "shell.execute_reply": "2023-02-25T20:39:28.673193Z",
     "shell.execute_reply.started": "2023-02-25T20:39:28.668242Z"
    }
   },
   "outputs": [],
   "source": [
    "# Reshape the image data into rows\n",
    "X_train = np.reshape(X_train, (X_train.shape[0], -1))\n",
    "X_test = np.reshape(X_test, (X_test.shape[0], -1))\n",
    "X_val = np.reshape(X_val, (X_val.shape[0], -1))"
   ]
  },
  {
   "cell_type": "code",
   "execution_count": 8,
   "metadata": {
    "execution": {
     "iopub.execute_input": "2023-02-25T20:39:28.677914Z",
     "iopub.status.busy": "2023-02-25T20:39:28.676643Z",
     "iopub.status.idle": "2023-02-25T20:39:28.689772Z",
     "shell.execute_reply": "2023-02-25T20:39:28.688913Z",
     "shell.execute_reply.started": "2023-02-25T20:39:28.677857Z"
    }
   },
   "outputs": [
    {
     "name": "stdout",
     "output_type": "stream",
     "text": [
      "X_train: (12000, 7500)\n",
      "X_test: (1500, 7500)\n",
      "X_val: (1500, 7500)\n",
      "y_train: (12000,)\n",
      "y_test: (1500,)\n",
      "y_val: (1500,)\n"
     ]
    }
   ],
   "source": [
    "print(\"X_train: \"+str(X_train.shape))\n",
    "print(\"X_test: \"+str(X_test.shape))\n",
    "print(\"X_val: \"+str(X_val.shape))\n",
    "print(\"y_train: \"+str(y_train.shape))\n",
    "print(\"y_test: \"+str(y_test.shape))\n",
    "print(\"y_val: \"+str(y_val.shape))"
   ]
  },
  {
   "cell_type": "markdown",
   "metadata": {},
   "source": [
    "# **KNN**"
   ]
  },
  {
   "cell_type": "code",
   "execution_count": 9,
   "metadata": {
    "execution": {
     "iopub.execute_input": "2023-02-25T20:39:28.691944Z",
     "iopub.status.busy": "2023-02-25T20:39:28.691579Z",
     "iopub.status.idle": "2023-02-25T20:39:28.731596Z",
     "shell.execute_reply": "2023-02-25T20:39:28.730736Z",
     "shell.execute_reply.started": "2023-02-25T20:39:28.691908Z"
    }
   },
   "outputs": [],
   "source": [
    "from sklearn.metrics import accuracy_score\n",
    "from sklearn.metrics import matthews_corrcoef\n",
    "from sklearn.metrics import f1_score\n",
    "from sklearn.neighbors import KNeighborsClassifier"
   ]
  },
  {
   "cell_type": "code",
   "execution_count": 10,
   "metadata": {
    "execution": {
     "iopub.execute_input": "2023-02-25T20:39:28.734499Z",
     "iopub.status.busy": "2023-02-25T20:39:28.733836Z",
     "iopub.status.idle": "2023-02-25T20:39:28.813787Z",
     "shell.execute_reply": "2023-02-25T20:39:28.812579Z",
     "shell.execute_reply.started": "2023-02-25T20:39:28.734463Z"
    }
   },
   "outputs": [
    {
     "data": {
      "text/plain": [
       "KNeighborsClassifier(n_neighbors=3)"
      ]
     },
     "execution_count": 10,
     "metadata": {},
     "output_type": "execute_result"
    }
   ],
   "source": [
    "knn = KNeighborsClassifier(3) # Define classifier\n",
    "knn.fit(X_train, y_train) # Train model"
   ]
  },
  {
   "cell_type": "code",
   "execution_count": 11,
   "metadata": {
    "execution": {
     "iopub.execute_input": "2023-02-25T20:39:28.815985Z",
     "iopub.status.busy": "2023-02-25T20:39:28.815554Z",
     "iopub.status.idle": "2023-02-25T20:40:26.552067Z",
     "shell.execute_reply": "2023-02-25T20:40:26.550931Z",
     "shell.execute_reply.started": "2023-02-25T20:39:28.815949Z"
    }
   },
   "outputs": [],
   "source": [
    "# Make predictions\n",
    "y_train_pred = knn.predict(X_train)\n",
    "y_test_pred = knn.predict(X_test)"
   ]
  },
  {
   "cell_type": "code",
   "execution_count": 12,
   "metadata": {
    "execution": {
     "iopub.execute_input": "2023-02-25T20:40:26.554059Z",
     "iopub.status.busy": "2023-02-25T20:40:26.553679Z",
     "iopub.status.idle": "2023-02-25T20:40:26.576862Z",
     "shell.execute_reply": "2023-02-25T20:40:26.575900Z",
     "shell.execute_reply.started": "2023-02-25T20:40:26.554018Z"
    }
   },
   "outputs": [],
   "source": [
    "# Training set performance\n",
    "knn_train_accuracy = accuracy_score(y_train, y_train_pred) # Calculate Accuracy\n",
    "knn_train_mcc = matthews_corrcoef(y_train, y_train_pred) # Calculate MCC\n",
    "knn_train_f1 = f1_score(y_train, y_train_pred, average='weighted') # Calculate F1-score\n"
   ]
  },
  {
   "cell_type": "code",
   "execution_count": 13,
   "metadata": {
    "execution": {
     "iopub.execute_input": "2023-02-25T20:40:26.583044Z",
     "iopub.status.busy": "2023-02-25T20:40:26.582732Z",
     "iopub.status.idle": "2023-02-25T20:40:26.594942Z",
     "shell.execute_reply": "2023-02-25T20:40:26.593677Z",
     "shell.execute_reply.started": "2023-02-25T20:40:26.583016Z"
    }
   },
   "outputs": [],
   "source": [
    "# Test set performance\n",
    "knn_test_accuracy = accuracy_score(y_test, y_test_pred) # Calculate Accuracy\n",
    "knn_test_mcc = matthews_corrcoef(y_test, y_test_pred) # Calculate MCC\n",
    "knn_test_f1 = f1_score(y_test, y_test_pred, average='weighted') # Calculate F1-score"
   ]
  },
  {
   "cell_type": "code",
   "execution_count": 14,
   "metadata": {
    "execution": {
     "iopub.execute_input": "2023-02-25T20:40:26.597000Z",
     "iopub.status.busy": "2023-02-25T20:40:26.596486Z",
     "iopub.status.idle": "2023-02-25T20:40:26.605808Z",
     "shell.execute_reply": "2023-02-25T20:40:26.604909Z",
     "shell.execute_reply.started": "2023-02-25T20:40:26.596948Z"
    }
   },
   "outputs": [
    {
     "name": "stdout",
     "output_type": "stream",
     "text": [
      "Model performance for Training set\n",
      "- Accuracy: 0.95125\n",
      "- MCC: 0.8924034566344392\n",
      "- F1 score: 0.9502052884299153\n",
      "----------------------------------\n",
      "Model performance for Test set\n",
      "- Accuracy: 0.884\n",
      "- MCC: 0.7422785189281594\n",
      "- F1 score: 0.876308058203758\n"
     ]
    }
   ],
   "source": [
    "print('Model performance for Training set')\n",
    "print('- Accuracy: %s' % knn_train_accuracy)\n",
    "print('- MCC: %s' % knn_train_mcc)\n",
    "print('- F1 score: %s' % knn_train_f1)\n",
    "print('----------------------------------')\n",
    "print('Model performance for Test set')\n",
    "print('- Accuracy: %s' % knn_test_accuracy)\n",
    "print('- MCC: %s' % knn_test_mcc)\n",
    "print('- F1 score: %s' % knn_test_f1)"
   ]
  },
  {
   "cell_type": "markdown",
   "metadata": {},
   "source": [
    "# **RANDOM FOREST**"
   ]
  },
  {
   "cell_type": "code",
   "execution_count": 15,
   "metadata": {
    "execution": {
     "iopub.execute_input": "2023-02-25T20:40:26.607920Z",
     "iopub.status.busy": "2023-02-25T20:40:26.607064Z",
     "iopub.status.idle": "2023-02-25T20:40:35.960226Z",
     "shell.execute_reply": "2023-02-25T20:40:35.959027Z",
     "shell.execute_reply.started": "2023-02-25T20:40:26.607863Z"
    }
   },
   "outputs": [
    {
     "data": {
      "text/plain": [
       "RandomForestClassifier(n_estimators=10)"
      ]
     },
     "execution_count": 15,
     "metadata": {},
     "output_type": "execute_result"
    }
   ],
   "source": [
    "from sklearn.ensemble import RandomForestClassifier\n",
    "\n",
    "rf = RandomForestClassifier(n_estimators=10) # Define classifier\n",
    "rf.fit(X_train, y_train) # Train model"
   ]
  },
  {
   "cell_type": "code",
   "execution_count": 16,
   "metadata": {
    "execution": {
     "iopub.execute_input": "2023-02-25T20:40:35.962711Z",
     "iopub.status.busy": "2023-02-25T20:40:35.962237Z",
     "iopub.status.idle": "2023-02-25T20:40:36.099841Z",
     "shell.execute_reply": "2023-02-25T20:40:36.098713Z",
     "shell.execute_reply.started": "2023-02-25T20:40:35.962667Z"
    }
   },
   "outputs": [],
   "source": [
    "# Make predictions\n",
    "y_train_pred = rf.predict(X_train)\n",
    "y_test_pred = rf.predict(X_test)"
   ]
  },
  {
   "cell_type": "code",
   "execution_count": 17,
   "metadata": {
    "execution": {
     "iopub.execute_input": "2023-02-25T20:40:36.103629Z",
     "iopub.status.busy": "2023-02-25T20:40:36.101466Z",
     "iopub.status.idle": "2023-02-25T20:40:36.125271Z",
     "shell.execute_reply": "2023-02-25T20:40:36.124321Z",
     "shell.execute_reply.started": "2023-02-25T20:40:36.103584Z"
    }
   },
   "outputs": [],
   "source": [
    "# Training set performance\n",
    "rf_train_accuracy = accuracy_score(y_train, y_train_pred) # Calculate Accuracy\n",
    "rf_train_mcc = matthews_corrcoef(y_train, y_train_pred) # Calculate MCC\n",
    "rf_train_f1 = f1_score(y_train, y_train_pred, average='weighted') # Calculate F1-score"
   ]
  },
  {
   "cell_type": "code",
   "execution_count": 18,
   "metadata": {
    "execution": {
     "iopub.execute_input": "2023-02-25T20:40:36.127050Z",
     "iopub.status.busy": "2023-02-25T20:40:36.126653Z",
     "iopub.status.idle": "2023-02-25T20:40:36.138647Z",
     "shell.execute_reply": "2023-02-25T20:40:36.137575Z",
     "shell.execute_reply.started": "2023-02-25T20:40:36.127012Z"
    }
   },
   "outputs": [],
   "source": [
    "# Test set performance\n",
    "rf_test_accuracy = accuracy_score(y_test, y_test_pred) # Calculate Accuracy\n",
    "rf_test_mcc = matthews_corrcoef(y_test, y_test_pred) # Calculate MCC\n",
    "rf_test_f1 = f1_score(y_test, y_test_pred, average='weighted') # Calculate F1-score"
   ]
  },
  {
   "cell_type": "code",
   "execution_count": 19,
   "metadata": {
    "execution": {
     "iopub.execute_input": "2023-02-25T20:40:36.141243Z",
     "iopub.status.busy": "2023-02-25T20:40:36.140772Z",
     "iopub.status.idle": "2023-02-25T20:40:36.151935Z",
     "shell.execute_reply": "2023-02-25T20:40:36.150389Z",
     "shell.execute_reply.started": "2023-02-25T20:40:36.141187Z"
    }
   },
   "outputs": [
    {
     "name": "stdout",
     "output_type": "stream",
     "text": [
      "Model performance for Training set\n",
      "- Accuracy: 0.9994166666666666\n",
      "- MCC: 0.9986926597558919\n",
      "- F1 score: 0.9994165411662213\n",
      "----------------------------------\n",
      "Model performance for Test set\n",
      "- Accuracy: 0.9886666666666667\n",
      "- MCC: 0.9743708610924107\n",
      "- F1 score: 0.9886210206045977\n"
     ]
    }
   ],
   "source": [
    "print('Model performance for Training set')\n",
    "print('- Accuracy: %s' % rf_train_accuracy)\n",
    "print('- MCC: %s' % rf_train_mcc)\n",
    "print('- F1 score: %s' % rf_train_f1)\n",
    "print('----------------------------------')\n",
    "print('Model performance for Test set')\n",
    "print('- Accuracy: %s' % rf_test_accuracy)\n",
    "print('- MCC: %s' % rf_test_mcc)\n",
    "print('- F1 score: %s' % rf_test_f1)"
   ]
  },
  {
   "cell_type": "markdown",
   "metadata": {},
   "source": [
    "# **DECISION TREE**"
   ]
  },
  {
   "cell_type": "code",
   "execution_count": 20,
   "metadata": {
    "execution": {
     "iopub.execute_input": "2023-02-25T20:40:36.154469Z",
     "iopub.status.busy": "2023-02-25T20:40:36.154013Z",
     "iopub.status.idle": "2023-02-25T20:41:01.329613Z",
     "shell.execute_reply": "2023-02-25T20:41:01.328579Z",
     "shell.execute_reply.started": "2023-02-25T20:40:36.154432Z"
    }
   },
   "outputs": [
    {
     "data": {
      "text/plain": [
       "DecisionTreeClassifier(max_depth=5)"
      ]
     },
     "execution_count": 20,
     "metadata": {},
     "output_type": "execute_result"
    }
   ],
   "source": [
    "from sklearn.tree import DecisionTreeClassifier\n",
    "\n",
    "dt = DecisionTreeClassifier(max_depth=5) # Define classifier\n",
    "dt.fit(X_train, y_train) # Train model"
   ]
  },
  {
   "cell_type": "code",
   "execution_count": 21,
   "metadata": {
    "execution": {
     "iopub.execute_input": "2023-02-25T20:41:01.331899Z",
     "iopub.status.busy": "2023-02-25T20:41:01.331041Z",
     "iopub.status.idle": "2023-02-25T20:41:01.415114Z",
     "shell.execute_reply": "2023-02-25T20:41:01.413997Z",
     "shell.execute_reply.started": "2023-02-25T20:41:01.331842Z"
    }
   },
   "outputs": [],
   "source": [
    "# Make predictions\n",
    "y_train_pred = dt.predict(X_train)\n",
    "y_test_pred = dt.predict(X_test)"
   ]
  },
  {
   "cell_type": "code",
   "execution_count": 22,
   "metadata": {
    "execution": {
     "iopub.execute_input": "2023-02-25T20:41:01.416785Z",
     "iopub.status.busy": "2023-02-25T20:41:01.416366Z",
     "iopub.status.idle": "2023-02-25T20:41:01.438329Z",
     "shell.execute_reply": "2023-02-25T20:41:01.437435Z",
     "shell.execute_reply.started": "2023-02-25T20:41:01.416739Z"
    }
   },
   "outputs": [],
   "source": [
    "# Training set performance\n",
    "dt_train_accuracy = accuracy_score(y_train, y_train_pred) # Calculate Accuracy\n",
    "dt_train_mcc = matthews_corrcoef(y_train, y_train_pred) # Calculate MCC\n",
    "dt_train_f1 = f1_score(y_train, y_train_pred, average='weighted') # Calculate F1-score"
   ]
  },
  {
   "cell_type": "code",
   "execution_count": 23,
   "metadata": {
    "execution": {
     "iopub.execute_input": "2023-02-25T20:41:01.440321Z",
     "iopub.status.busy": "2023-02-25T20:41:01.439752Z",
     "iopub.status.idle": "2023-02-25T20:41:01.451633Z",
     "shell.execute_reply": "2023-02-25T20:41:01.450564Z",
     "shell.execute_reply.started": "2023-02-25T20:41:01.440283Z"
    }
   },
   "outputs": [],
   "source": [
    "# Test set performance\n",
    "dt_test_accuracy = accuracy_score(y_test, y_test_pred) # Calculate Accuracy\n",
    "dt_test_mcc = matthews_corrcoef(y_test, y_test_pred) # Calculate MCC\n",
    "dt_test_f1 = f1_score(y_test, y_test_pred, average='weighted') # Calculate F1-score"
   ]
  },
  {
   "cell_type": "code",
   "execution_count": 24,
   "metadata": {
    "execution": {
     "iopub.execute_input": "2023-02-25T20:41:01.454020Z",
     "iopub.status.busy": "2023-02-25T20:41:01.453411Z",
     "iopub.status.idle": "2023-02-25T20:41:01.462298Z",
     "shell.execute_reply": "2023-02-25T20:41:01.461061Z",
     "shell.execute_reply.started": "2023-02-25T20:41:01.453975Z"
    }
   },
   "outputs": [
    {
     "name": "stdout",
     "output_type": "stream",
     "text": [
      "Model performance for Training set\n",
      "- Accuracy: 0.9854166666666667\n",
      "- MCC: 0.967253058693916\n",
      "- F1 score: 0.9853962548586535\n",
      "----------------------------------\n",
      "Model performance for Test set\n",
      "- Accuracy: 0.9766666666666667\n",
      "- MCC: 0.9469578856278917\n",
      "- F1 score: 0.9765726894800538\n"
     ]
    }
   ],
   "source": [
    "print('Model performance for Training set')\n",
    "print('- Accuracy: %s' % dt_train_accuracy)\n",
    "print('- MCC: %s' % dt_train_mcc)\n",
    "print('- F1 score: %s' % dt_train_f1)\n",
    "print('----------------------------------')\n",
    "print('Model performance for Test set')\n",
    "print('- Accuracy: %s' % dt_test_accuracy)\n",
    "print('- MCC: %s' % dt_test_mcc)\n",
    "print('- F1 score: %s' % dt_test_f1)"
   ]
  },
  {
   "cell_type": "markdown",
   "metadata": {},
   "source": [
    "# **NAIVE BAYES CLASSIFIER**"
   ]
  },
  {
   "cell_type": "code",
   "execution_count": 25,
   "metadata": {
    "execution": {
     "iopub.execute_input": "2023-02-25T20:41:01.464712Z",
     "iopub.status.busy": "2023-02-25T20:41:01.464293Z",
     "iopub.status.idle": "2023-02-25T20:41:02.208038Z",
     "shell.execute_reply": "2023-02-25T20:41:02.206962Z",
     "shell.execute_reply.started": "2023-02-25T20:41:01.464676Z"
    }
   },
   "outputs": [
    {
     "data": {
      "text/plain": [
       "GaussianNB()"
      ]
     },
     "execution_count": 25,
     "metadata": {},
     "output_type": "execute_result"
    }
   ],
   "source": [
    "from sklearn.naive_bayes import GaussianNB\n",
    "\n",
    "clf = GaussianNB()\n",
    "clf.fit(X_train, y_train) # Train model"
   ]
  },
  {
   "cell_type": "code",
   "execution_count": 26,
   "metadata": {
    "execution": {
     "iopub.execute_input": "2023-02-25T20:41:02.214600Z",
     "iopub.status.busy": "2023-02-25T20:41:02.212213Z",
     "iopub.status.idle": "2023-02-25T20:41:03.778814Z",
     "shell.execute_reply": "2023-02-25T20:41:03.777728Z",
     "shell.execute_reply.started": "2023-02-25T20:41:02.214560Z"
    }
   },
   "outputs": [],
   "source": [
    "# Make predictions\n",
    "y_train_pred = clf.predict(X_train)\n",
    "y_test_pred = clf.predict(X_test)"
   ]
  },
  {
   "cell_type": "code",
   "execution_count": 27,
   "metadata": {
    "execution": {
     "iopub.execute_input": "2023-02-25T20:41:03.781084Z",
     "iopub.status.busy": "2023-02-25T20:41:03.780200Z",
     "iopub.status.idle": "2023-02-25T20:41:03.803760Z",
     "shell.execute_reply": "2023-02-25T20:41:03.802502Z",
     "shell.execute_reply.started": "2023-02-25T20:41:03.781040Z"
    }
   },
   "outputs": [],
   "source": [
    "# Training set performance\n",
    "clf_train_accuracy = accuracy_score(y_train, y_train_pred) # Calculate Accuracy\n",
    "clf_train_mcc = matthews_corrcoef(y_train, y_train_pred) # Calculate MCC\n",
    "clf_train_f1 = f1_score(y_train, y_train_pred, average='weighted') # Calculate F1-score"
   ]
  },
  {
   "cell_type": "code",
   "execution_count": 28,
   "metadata": {
    "execution": {
     "iopub.execute_input": "2023-02-25T20:41:03.805984Z",
     "iopub.status.busy": "2023-02-25T20:41:03.805557Z",
     "iopub.status.idle": "2023-02-25T20:41:03.817193Z",
     "shell.execute_reply": "2023-02-25T20:41:03.815991Z",
     "shell.execute_reply.started": "2023-02-25T20:41:03.805945Z"
    }
   },
   "outputs": [],
   "source": [
    "# Test set performance\n",
    "clf_test_accuracy = accuracy_score(y_test, y_test_pred) # Calculate Accuracy\n",
    "clf_test_mcc = matthews_corrcoef(y_test, y_test_pred) # Calculate MCC\n",
    "clf_test_f1 = f1_score(y_test, y_test_pred, average='weighted') # Calculate F1-score"
   ]
  },
  {
   "cell_type": "code",
   "execution_count": 29,
   "metadata": {
    "execution": {
     "iopub.execute_input": "2023-02-25T20:41:03.819308Z",
     "iopub.status.busy": "2023-02-25T20:41:03.818724Z",
     "iopub.status.idle": "2023-02-25T20:41:03.827237Z",
     "shell.execute_reply": "2023-02-25T20:41:03.826105Z",
     "shell.execute_reply.started": "2023-02-25T20:41:03.819270Z"
    }
   },
   "outputs": [
    {
     "name": "stdout",
     "output_type": "stream",
     "text": [
      "Model performance for Training set\n",
      "- Accuracy: 0.9790833333333333\n",
      "- MCC: 0.9531924633026071\n",
      "- F1 score: 0.9789504302967131\n",
      "----------------------------------\n",
      "Model performance for Test set\n",
      "- Accuracy: 0.9793333333333333\n",
      "- MCC: 0.9531432561058978\n",
      "- F1 score: 0.9792150967736462\n"
     ]
    }
   ],
   "source": [
    "print('Model performance for Training set')\n",
    "print('- Accuracy: %s' % clf_train_accuracy)\n",
    "print('- MCC: %s' % clf_train_mcc)\n",
    "print('- F1 score: %s' % clf_train_f1)\n",
    "print('----------------------------------')\n",
    "print('Model performance for Test set')\n",
    "print('- Accuracy: %s' % clf_test_accuracy)\n",
    "print('- MCC: %s' % clf_test_mcc)\n",
    "print('- F1 score: %s' % clf_test_f1)"
   ]
  },
  {
   "cell_type": "markdown",
   "metadata": {},
   "source": [
    "# **SVC**"
   ]
  },
  {
   "cell_type": "code",
   "execution_count": 30,
   "metadata": {
    "execution": {
     "iopub.execute_input": "2023-02-25T20:41:03.829320Z",
     "iopub.status.busy": "2023-02-25T20:41:03.828947Z",
     "iopub.status.idle": "2023-02-25T20:44:46.421688Z",
     "shell.execute_reply": "2023-02-25T20:44:46.420436Z",
     "shell.execute_reply.started": "2023-02-25T20:41:03.829284Z"
    }
   },
   "outputs": [
    {
     "data": {
      "text/plain": [
       "SVC()"
      ]
     },
     "execution_count": 30,
     "metadata": {},
     "output_type": "execute_result"
    }
   ],
   "source": [
    "from sklearn.svm import SVC\n",
    "\n",
    "svc=SVC()\n",
    "svc.fit(X_train,y_train)"
   ]
  },
  {
   "cell_type": "code",
   "execution_count": 31,
   "metadata": {
    "execution": {
     "iopub.execute_input": "2023-02-25T20:44:46.424087Z",
     "iopub.status.busy": "2023-02-25T20:44:46.423328Z",
     "iopub.status.idle": "2023-02-25T20:50:33.451678Z",
     "shell.execute_reply": "2023-02-25T20:50:33.450661Z",
     "shell.execute_reply.started": "2023-02-25T20:44:46.424039Z"
    }
   },
   "outputs": [],
   "source": [
    "# Make predictions\n",
    "y_train_pred = svc.predict(X_train)\n",
    "y_test_pred = svc.predict(X_test)"
   ]
  },
  {
   "cell_type": "code",
   "execution_count": 32,
   "metadata": {
    "execution": {
     "iopub.execute_input": "2023-02-25T20:50:33.453740Z",
     "iopub.status.busy": "2023-02-25T20:50:33.453119Z",
     "iopub.status.idle": "2023-02-25T20:50:33.474262Z",
     "shell.execute_reply": "2023-02-25T20:50:33.473361Z",
     "shell.execute_reply.started": "2023-02-25T20:50:33.453700Z"
    }
   },
   "outputs": [],
   "source": [
    "# Training set performance\n",
    "svc_train_accuracy = accuracy_score(y_train, y_train_pred) # Calculate Accuracy\n",
    "svc_train_mcc = matthews_corrcoef(y_train, y_train_pred) # Calculate MCC\n",
    "svc_train_f1 = f1_score(y_train, y_train_pred, average='weighted') # Calculate F1-score"
   ]
  },
  {
   "cell_type": "code",
   "execution_count": 33,
   "metadata": {
    "execution": {
     "iopub.execute_input": "2023-02-25T20:50:33.476152Z",
     "iopub.status.busy": "2023-02-25T20:50:33.475725Z",
     "iopub.status.idle": "2023-02-25T20:50:33.486952Z",
     "shell.execute_reply": "2023-02-25T20:50:33.485792Z",
     "shell.execute_reply.started": "2023-02-25T20:50:33.476109Z"
    }
   },
   "outputs": [],
   "source": [
    "# Test set performance\n",
    "svc_test_accuracy = accuracy_score(y_test, y_test_pred) # Calculate Accuracy\n",
    "svc_test_mcc = matthews_corrcoef(y_test, y_test_pred) # Calculate MCC\n",
    "svc_test_f1 = f1_score(y_test, y_test_pred, average='weighted') # Calculate F1-score"
   ]
  },
  {
   "cell_type": "code",
   "execution_count": 34,
   "metadata": {
    "execution": {
     "iopub.execute_input": "2023-02-25T20:50:33.488960Z",
     "iopub.status.busy": "2023-02-25T20:50:33.488528Z",
     "iopub.status.idle": "2023-02-25T20:50:33.501974Z",
     "shell.execute_reply": "2023-02-25T20:50:33.500833Z",
     "shell.execute_reply.started": "2023-02-25T20:50:33.488921Z"
    }
   },
   "outputs": [
    {
     "name": "stdout",
     "output_type": "stream",
     "text": [
      "Model performance for Training set\n",
      "- Accuracy: 0.98875\n",
      "- MCC: 0.9748037915859492\n",
      "- F1 score: 0.9887133006352452\n",
      "----------------------------------\n",
      "Model performance for Test set\n",
      "- Accuracy: 0.982\n",
      "- MCC: 0.9592084147072265\n",
      "- F1 score: 0.9819072765755927\n"
     ]
    }
   ],
   "source": [
    "print('Model performance for Training set')\n",
    "print('- Accuracy: %s' % svc_train_accuracy)\n",
    "print('- MCC: %s' % svc_train_mcc)\n",
    "print('- F1 score: %s' % svc_train_f1)\n",
    "print('----------------------------------')\n",
    "print('Model performance for Test set')\n",
    "print('- Accuracy: %s' % svc_test_accuracy)\n",
    "print('- MCC: %s' % svc_test_mcc)\n",
    "print('- F1 score: %s' % svc_test_f1)"
   ]
  },
  {
   "cell_type": "markdown",
   "metadata": {},
   "source": [
    "# **LOGISTIC REGRESSION**"
   ]
  },
  {
   "cell_type": "code",
   "execution_count": 35,
   "metadata": {
    "execution": {
     "iopub.execute_input": "2023-02-25T20:50:33.504536Z",
     "iopub.status.busy": "2023-02-25T20:50:33.503820Z",
     "iopub.status.idle": "2023-02-25T20:50:47.926981Z",
     "shell.execute_reply": "2023-02-25T20:50:47.925861Z",
     "shell.execute_reply.started": "2023-02-25T20:50:33.504498Z"
    }
   },
   "outputs": [
    {
     "data": {
      "text/plain": [
       "LogisticRegression()"
      ]
     },
     "execution_count": 35,
     "metadata": {},
     "output_type": "execute_result"
    }
   ],
   "source": [
    "from sklearn.linear_model import LogisticRegression\n",
    "\n",
    "lr=LogisticRegression()\n",
    "lr.fit(X_train,y_train)"
   ]
  },
  {
   "cell_type": "code",
   "execution_count": 36,
   "metadata": {
    "execution": {
     "iopub.execute_input": "2023-02-25T20:50:47.930037Z",
     "iopub.status.busy": "2023-02-25T20:50:47.929200Z",
     "iopub.status.idle": "2023-02-25T20:50:48.362744Z",
     "shell.execute_reply": "2023-02-25T20:50:48.361183Z",
     "shell.execute_reply.started": "2023-02-25T20:50:47.929934Z"
    }
   },
   "outputs": [],
   "source": [
    "# Make predictions\n",
    "y_train_pred = lr.predict(X_train)\n",
    "y_test_pred = lr.predict(X_test)"
   ]
  },
  {
   "cell_type": "code",
   "execution_count": 37,
   "metadata": {
    "execution": {
     "iopub.execute_input": "2023-02-25T20:50:48.373746Z",
     "iopub.status.busy": "2023-02-25T20:50:48.370292Z",
     "iopub.status.idle": "2023-02-25T20:50:48.408531Z",
     "shell.execute_reply": "2023-02-25T20:50:48.407050Z",
     "shell.execute_reply.started": "2023-02-25T20:50:48.373685Z"
    }
   },
   "outputs": [],
   "source": [
    "# Training set performance\n",
    "lr_train_accuracy = accuracy_score(y_train, y_train_pred) # Calculate Accuracy\n",
    "lr_train_mcc = matthews_corrcoef(y_train, y_train_pred) # Calculate MCC\n",
    "lr_train_f1 = f1_score(y_train, y_train_pred, average='weighted') # Calculate F1-score"
   ]
  },
  {
   "cell_type": "code",
   "execution_count": 38,
   "metadata": {
    "execution": {
     "iopub.execute_input": "2023-02-25T20:50:48.418521Z",
     "iopub.status.busy": "2023-02-25T20:50:48.414752Z",
     "iopub.status.idle": "2023-02-25T20:50:48.434858Z",
     "shell.execute_reply": "2023-02-25T20:50:48.433455Z",
     "shell.execute_reply.started": "2023-02-25T20:50:48.418464Z"
    }
   },
   "outputs": [],
   "source": [
    "# Test set performance\n",
    "lr_test_accuracy = accuracy_score(y_test, y_test_pred) # Calculate Accuracy\n",
    "lr_test_mcc = matthews_corrcoef(y_test, y_test_pred) # Calculate MCC\n",
    "lr_test_f1 = f1_score(y_test, y_test_pred, average='weighted') # Calculate F1-score"
   ]
  },
  {
   "cell_type": "code",
   "execution_count": 39,
   "metadata": {
    "execution": {
     "iopub.execute_input": "2023-02-25T20:50:48.444624Z",
     "iopub.status.busy": "2023-02-25T20:50:48.441182Z",
     "iopub.status.idle": "2023-02-25T20:50:48.459296Z",
     "shell.execute_reply": "2023-02-25T20:50:48.457946Z",
     "shell.execute_reply.started": "2023-02-25T20:50:48.444574Z"
    }
   },
   "outputs": [
    {
     "name": "stdout",
     "output_type": "stream",
     "text": [
      "Model performance for Training set\n",
      "- Accuracy: 0.9995\n",
      "- MCC: 0.9988793787533877\n",
      "- F1 score: 0.9995000306477854\n",
      "----------------------------------\n",
      "Model performance for Test set\n",
      "- Accuracy: 0.9846666666666667\n",
      "- MCC: 0.9651908767928614\n",
      "- F1 score: 0.9846465771904925\n"
     ]
    }
   ],
   "source": [
    "print('Model performance for Training set')\n",
    "print('- Accuracy: %s' % lr_train_accuracy)\n",
    "print('- MCC: %s' % lr_train_mcc)\n",
    "print('- F1 score: %s' % lr_train_f1)\n",
    "print('----------------------------------')\n",
    "print('Model performance for Test set')\n",
    "print('- Accuracy: %s' % lr_test_accuracy)\n",
    "print('- MCC: %s' % lr_test_mcc)\n",
    "print('- F1 score: %s' % lr_test_f1)"
   ]
  },
  {
   "cell_type": "markdown",
   "metadata": {},
   "source": [
    "# **CATBOOST**"
   ]
  },
  {
   "cell_type": "code",
   "execution_count": 40,
   "metadata": {
    "execution": {
     "iopub.execute_input": "2023-02-25T20:50:48.478947Z",
     "iopub.status.busy": "2023-02-25T20:50:48.475354Z",
     "iopub.status.idle": "2023-02-25T20:52:31.280463Z",
     "shell.execute_reply": "2023-02-25T20:52:31.279439Z",
     "shell.execute_reply.started": "2023-02-25T20:50:48.478899Z"
    },
    "scrolled": true
   },
   "outputs": [
    {
     "name": "stdout",
     "output_type": "stream",
     "text": [
      "0:\tlearn: 0.4867926\ttotal: 1.36s\tremaining: 1m 6s\n",
      "1:\tlearn: 0.3526675\ttotal: 2.43s\tremaining: 58.4s\n",
      "2:\tlearn: 0.2586874\ttotal: 3.47s\tremaining: 54.3s\n",
      "3:\tlearn: 0.2000106\ttotal: 4.5s\tremaining: 51.7s\n",
      "4:\tlearn: 0.1596906\ttotal: 5.07s\tremaining: 45.6s\n",
      "5:\tlearn: 0.1299378\ttotal: 5.97s\tremaining: 43.8s\n",
      "6:\tlearn: 0.1080735\ttotal: 6.96s\tremaining: 42.7s\n",
      "7:\tlearn: 0.0909536\ttotal: 7.96s\tremaining: 41.8s\n",
      "8:\tlearn: 0.0785441\ttotal: 8.96s\tremaining: 40.8s\n",
      "9:\tlearn: 0.0691730\ttotal: 10.1s\tremaining: 40.4s\n",
      "10:\tlearn: 0.0607536\ttotal: 11.2s\tremaining: 39.6s\n",
      "11:\tlearn: 0.0553272\ttotal: 11.8s\tremaining: 37.4s\n",
      "12:\tlearn: 0.0504201\ttotal: 12.6s\tremaining: 35.8s\n",
      "13:\tlearn: 0.0458955\ttotal: 13.5s\tremaining: 34.8s\n",
      "14:\tlearn: 0.0431726\ttotal: 14.5s\tremaining: 33.8s\n",
      "15:\tlearn: 0.0407029\ttotal: 15.5s\tremaining: 32.9s\n",
      "16:\tlearn: 0.0382038\ttotal: 16.4s\tremaining: 31.9s\n",
      "17:\tlearn: 0.0366612\ttotal: 17.4s\tremaining: 30.9s\n",
      "18:\tlearn: 0.0347472\ttotal: 18.3s\tremaining: 29.9s\n",
      "19:\tlearn: 0.0327361\ttotal: 18.9s\tremaining: 28.3s\n",
      "20:\tlearn: 0.0309451\ttotal: 19.4s\tremaining: 26.8s\n",
      "21:\tlearn: 0.0290958\ttotal: 20.3s\tremaining: 25.8s\n",
      "22:\tlearn: 0.0280381\ttotal: 21.2s\tremaining: 24.9s\n",
      "23:\tlearn: 0.0269713\ttotal: 22.2s\tremaining: 24s\n",
      "24:\tlearn: 0.0259000\ttotal: 23.1s\tremaining: 23.1s\n",
      "25:\tlearn: 0.0242925\ttotal: 24.1s\tremaining: 22.3s\n",
      "26:\tlearn: 0.0234989\ttotal: 25.2s\tremaining: 21.4s\n",
      "27:\tlearn: 0.0225553\ttotal: 25.9s\tremaining: 20.4s\n",
      "28:\tlearn: 0.0220187\ttotal: 26.7s\tremaining: 19.4s\n",
      "29:\tlearn: 0.0209736\ttotal: 27.8s\tremaining: 18.5s\n",
      "30:\tlearn: 0.0203550\ttotal: 28.8s\tremaining: 17.6s\n",
      "31:\tlearn: 0.0196074\ttotal: 29.8s\tremaining: 16.8s\n",
      "32:\tlearn: 0.0190773\ttotal: 30.9s\tremaining: 15.9s\n",
      "33:\tlearn: 0.0186369\ttotal: 32.1s\tremaining: 15.1s\n",
      "34:\tlearn: 0.0180493\ttotal: 32.9s\tremaining: 14.1s\n",
      "35:\tlearn: 0.0173980\ttotal: 33.8s\tremaining: 13.1s\n",
      "36:\tlearn: 0.0165359\ttotal: 35s\tremaining: 12.3s\n",
      "37:\tlearn: 0.0160027\ttotal: 36.2s\tremaining: 11.4s\n",
      "38:\tlearn: 0.0157589\ttotal: 37.3s\tremaining: 10.5s\n",
      "39:\tlearn: 0.0154264\ttotal: 38.3s\tremaining: 9.58s\n",
      "40:\tlearn: 0.0147890\ttotal: 39.3s\tremaining: 8.63s\n",
      "41:\tlearn: 0.0142672\ttotal: 39.9s\tremaining: 7.6s\n",
      "42:\tlearn: 0.0136804\ttotal: 40.8s\tremaining: 6.65s\n",
      "43:\tlearn: 0.0132172\ttotal: 41.9s\tremaining: 5.72s\n",
      "44:\tlearn: 0.0127041\ttotal: 43s\tremaining: 4.78s\n",
      "45:\tlearn: 0.0123937\ttotal: 44s\tremaining: 3.82s\n",
      "46:\tlearn: 0.0122916\ttotal: 44.9s\tremaining: 2.87s\n",
      "47:\tlearn: 0.0118794\ttotal: 46s\tremaining: 1.92s\n",
      "48:\tlearn: 0.0116160\ttotal: 46.6s\tremaining: 951ms\n",
      "49:\tlearn: 0.0111978\ttotal: 47.2s\tremaining: 0us\n"
     ]
    },
    {
     "data": {
      "text/plain": [
       "<catboost.core.CatBoostClassifier at 0x2ed21fece20>"
      ]
     },
     "execution_count": 40,
     "metadata": {},
     "output_type": "execute_result"
    }
   ],
   "source": [
    "from catboost import CatBoostClassifier\n",
    "\n",
    "cat=CatBoostClassifier(iterations=50,learning_rate=0.1)\n",
    "cat.fit(X_train,y_train)"
   ]
  },
  {
   "cell_type": "code",
   "execution_count": 41,
   "metadata": {
    "execution": {
     "iopub.execute_input": "2023-02-25T20:52:31.282871Z",
     "iopub.status.busy": "2023-02-25T20:52:31.282144Z",
     "iopub.status.idle": "2023-02-25T20:52:39.178945Z",
     "shell.execute_reply": "2023-02-25T20:52:39.177670Z",
     "shell.execute_reply.started": "2023-02-25T20:52:31.282829Z"
    }
   },
   "outputs": [],
   "source": [
    "# Make predictions\n",
    "y_train_pred = cat.predict(X_train)\n",
    "y_test_pred = cat.predict(X_test)"
   ]
  },
  {
   "cell_type": "code",
   "execution_count": 42,
   "metadata": {
    "execution": {
     "iopub.execute_input": "2023-02-25T20:52:39.180784Z",
     "iopub.status.busy": "2023-02-25T20:52:39.180370Z",
     "iopub.status.idle": "2023-02-25T20:52:39.201899Z",
     "shell.execute_reply": "2023-02-25T20:52:39.201042Z",
     "shell.execute_reply.started": "2023-02-25T20:52:39.180734Z"
    }
   },
   "outputs": [],
   "source": [
    "# Training set performance\n",
    "cat_train_accuracy = accuracy_score(y_train, y_train_pred) # Calculate Accuracy\n",
    "cat_train_mcc = matthews_corrcoef(y_train, y_train_pred) # Calculate MCC\n",
    "cat_train_f1 = f1_score(y_train, y_train_pred, average='weighted') # Calculate F1-score"
   ]
  },
  {
   "cell_type": "code",
   "execution_count": 43,
   "metadata": {
    "execution": {
     "iopub.execute_input": "2023-02-25T20:52:39.204106Z",
     "iopub.status.busy": "2023-02-25T20:52:39.203672Z",
     "iopub.status.idle": "2023-02-25T20:52:39.215631Z",
     "shell.execute_reply": "2023-02-25T20:52:39.214457Z",
     "shell.execute_reply.started": "2023-02-25T20:52:39.204066Z"
    }
   },
   "outputs": [],
   "source": [
    "# Test set performance\n",
    "cat_test_accuracy = accuracy_score(y_test, y_test_pred) # Calculate Accuracy\n",
    "cat_test_mcc = matthews_corrcoef(y_test, y_test_pred) # Calculate MCC\n",
    "cat_test_f1 = f1_score(y_test, y_test_pred, average='weighted') # Calculate F1-score"
   ]
  },
  {
   "cell_type": "code",
   "execution_count": 44,
   "metadata": {
    "execution": {
     "iopub.execute_input": "2023-02-25T20:52:39.218154Z",
     "iopub.status.busy": "2023-02-25T20:52:39.217689Z",
     "iopub.status.idle": "2023-02-25T20:52:39.227301Z",
     "shell.execute_reply": "2023-02-25T20:52:39.226157Z",
     "shell.execute_reply.started": "2023-02-25T20:52:39.218118Z"
    }
   },
   "outputs": [
    {
     "name": "stdout",
     "output_type": "stream",
     "text": [
      "Model performance for Training set\n",
      "- Accuracy: 0.9995\n",
      "- MCC: 0.9988793787533877\n",
      "- F1 score: 0.9995000306477854\n",
      "----------------------------------\n",
      "Model performance for Test set\n",
      "- Accuracy: 0.9926666666666667\n",
      "- MCC: 0.9833769966407652\n",
      "- F1 score: 0.9926531494217088\n"
     ]
    }
   ],
   "source": [
    "print('Model performance for Training set')\n",
    "print('- Accuracy: %s' % cat_train_accuracy)\n",
    "print('- MCC: %s' % cat_train_mcc)\n",
    "print('- F1 score: %s' % cat_train_f1)\n",
    "print('----------------------------------')\n",
    "print('Model performance for Test set')\n",
    "print('- Accuracy: %s' % cat_test_accuracy)\n",
    "print('- MCC: %s' % cat_test_mcc)\n",
    "print('- F1 score: %s' % cat_test_f1)"
   ]
  },
  {
   "cell_type": "markdown",
   "metadata": {},
   "source": [
    "# **XGBoost**"
   ]
  },
  {
   "cell_type": "code",
   "execution_count": 45,
   "metadata": {
    "execution": {
     "iopub.execute_input": "2023-02-25T20:52:39.229968Z",
     "iopub.status.busy": "2023-02-25T20:52:39.229140Z",
     "iopub.status.idle": "2023-02-25T20:53:36.076879Z",
     "shell.execute_reply": "2023-02-25T20:53:36.075818Z",
     "shell.execute_reply.started": "2023-02-25T20:52:39.229928Z"
    }
   },
   "outputs": [
    {
     "data": {
      "text/plain": [
       "XGBClassifier(base_score=0.5, booster='gblinear', callbacks=None,\n",
       "              colsample_bylevel=None, colsample_bynode=None,\n",
       "              colsample_bytree=None, early_stopping_rounds=None,\n",
       "              enable_categorical=False, eval_metric=None, gamma=None, gpu_id=-1,\n",
       "              grow_policy=None, importance_type=None,\n",
       "              interaction_constraints=None, learning_rate=1, max_bin=None,\n",
       "              max_cat_to_onehot=None, max_delta_step=None, max_depth=None,\n",
       "              max_leaves=None, min_child_weight=None, missing=nan,\n",
       "              monotone_constraints=None, n_estimators=100, n_jobs=0,\n",
       "              num_parallel_tree=None, predictor=None, random_state=0,\n",
       "              reg_alpha=0, reg_lambda=0, ...)"
      ]
     },
     "execution_count": 45,
     "metadata": {},
     "output_type": "execute_result"
    }
   ],
   "source": [
    "from xgboost import XGBClassifier\n",
    "\n",
    "xgb=XGBClassifier(booster='gblinear',learning_rate=1,n_estimators=100)\n",
    "xgb.fit(X_train,y_train)"
   ]
  },
  {
   "cell_type": "code",
   "execution_count": 50,
   "metadata": {
    "execution": {
     "iopub.execute_input": "2023-02-25T20:56:32.849965Z",
     "iopub.status.busy": "2023-02-25T20:56:32.849560Z",
     "iopub.status.idle": "2023-02-25T20:56:35.329289Z",
     "shell.execute_reply": "2023-02-25T20:56:35.328381Z",
     "shell.execute_reply.started": "2023-02-25T20:56:32.849931Z"
    }
   },
   "outputs": [],
   "source": [
    "# Make predictions\n",
    "y_train_pred = xgb.predict(X_train)\n",
    "y_test_pred = xgb.predict(X_test)"
   ]
  },
  {
   "cell_type": "code",
   "execution_count": 51,
   "metadata": {
    "execution": {
     "iopub.execute_input": "2023-02-25T20:56:43.837509Z",
     "iopub.status.busy": "2023-02-25T20:56:43.836782Z",
     "iopub.status.idle": "2023-02-25T20:56:43.856704Z",
     "shell.execute_reply": "2023-02-25T20:56:43.855729Z",
     "shell.execute_reply.started": "2023-02-25T20:56:43.837471Z"
    }
   },
   "outputs": [],
   "source": [
    "# Training set performance\n",
    "xgb_train_accuracy = accuracy_score(y_train, y_train_pred) # Calculate Accuracy\n",
    "xgb_train_mcc = matthews_corrcoef(y_train, y_train_pred) # Calculate MCC\n",
    "xgb_train_f1 = f1_score(y_train, y_train_pred, average='weighted') # Calculate F1-score"
   ]
  },
  {
   "cell_type": "code",
   "execution_count": 52,
   "metadata": {
    "execution": {
     "iopub.execute_input": "2023-02-25T20:56:47.372833Z",
     "iopub.status.busy": "2023-02-25T20:56:47.372454Z",
     "iopub.status.idle": "2023-02-25T20:56:47.383516Z",
     "shell.execute_reply": "2023-02-25T20:56:47.382415Z",
     "shell.execute_reply.started": "2023-02-25T20:56:47.372789Z"
    }
   },
   "outputs": [],
   "source": [
    "# Test set performance\n",
    "xgb_test_accuracy = accuracy_score(y_test, y_test_pred) # Calculate Accuracy\n",
    "xgb_test_mcc = matthews_corrcoef(y_test, y_test_pred) # Calculate MCC\n",
    "xgb_test_f1 = f1_score(y_test, y_test_pred, average='weighted') # Calculate F1-score"
   ]
  },
  {
   "cell_type": "code",
   "execution_count": 53,
   "metadata": {
    "execution": {
     "iopub.execute_input": "2023-02-25T20:56:54.144804Z",
     "iopub.status.busy": "2023-02-25T20:56:54.144393Z",
     "iopub.status.idle": "2023-02-25T20:56:54.151648Z",
     "shell.execute_reply": "2023-02-25T20:56:54.150471Z",
     "shell.execute_reply.started": "2023-02-25T20:56:54.144767Z"
    }
   },
   "outputs": [
    {
     "name": "stdout",
     "output_type": "stream",
     "text": [
      "Model performance for Training set\n",
      "- Accuracy: 0.9053333333333333\n",
      "- MCC: 0.785941737477248\n",
      "- F1 score: 0.9048065132980564\n",
      "----------------------------------\n",
      "Model performance for Test set\n",
      "- Accuracy: 0.7986666666666666\n",
      "- MCC: 0.5518206421477979\n",
      "- F1 score: 0.8002057469418611\n"
     ]
    }
   ],
   "source": [
    "print('Model performance for Training set')\n",
    "print('- Accuracy: %s' % xgb_train_accuracy)\n",
    "print('- MCC: %s' % xgb_train_mcc)\n",
    "print('- F1 score: %s' % xgb_train_f1)\n",
    "print('----------------------------------')\n",
    "print('Model performance for Test set')\n",
    "print('- Accuracy: %s' % xgb_test_accuracy)\n",
    "print('- MCC: %s' % xgb_test_mcc)\n",
    "print('- F1 score: %s' % xgb_test_f1)"
   ]
  }
 ],
 "metadata": {
  "kernelspec": {
   "display_name": "Python 3 (ipykernel)",
   "language": "python",
   "name": "python3"
  },
  "language_info": {
   "codemirror_mode": {
    "name": "ipython",
    "version": 3
   },
   "file_extension": ".py",
   "mimetype": "text/x-python",
   "name": "python",
   "nbconvert_exporter": "python",
   "pygments_lexer": "ipython3",
   "version": "3.9.7"
  }
 },
 "nbformat": 4,
 "nbformat_minor": 4
}
